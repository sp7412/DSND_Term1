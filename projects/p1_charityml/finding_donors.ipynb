{
  "nbformat": 4,
  "nbformat_minor": 0,
  "metadata": {
    "kernelspec": {
      "display_name": "Python 3",
      "language": "python",
      "name": "python3"
    },
    "language_info": {
      "codemirror_mode": {
        "name": "ipython",
        "version": 3
      },
      "file_extension": ".py",
      "mimetype": "text/x-python",
      "name": "python",
      "nbconvert_exporter": "python",
      "pygments_lexer": "ipython3",
      "version": "3.6.1"
    },
    "colab": {
      "name": "finding_donors.ipynb",
      "provenance": []
    }
  },
  "cells": [
    {
      "cell_type": "markdown",
      "metadata": {
        "id": "GeZNiIUuUOl8",
        "colab_type": "text"
      },
      "source": [
        "# Data Scientist Nanodegree\n",
        "## Supervised Learning\n",
        "## Project: Finding Donors for *CharityML*"
      ]
    },
    {
      "cell_type": "code",
      "metadata": {
        "id": "d7Jjt49_GWPH",
        "colab_type": "code",
        "colab": {
          "base_uri": "https://localhost:8080/",
          "height": 54
        },
        "outputId": "55006117-b784-461a-e724-d8dcfa4cc1f5"
      },
      "source": [
        "import sys\n",
        "print(sys.version)"
      ],
      "execution_count": 51,
      "outputs": [
        {
          "output_type": "stream",
          "text": [
            "3.6.9 (default, Apr 18 2020, 01:56:04) \n",
            "[GCC 8.4.0]\n"
          ],
          "name": "stdout"
        }
      ]
    },
    {
      "cell_type": "markdown",
      "metadata": {
        "id": "WuGrXYmlUOl9",
        "colab_type": "text"
      },
      "source": [
        "Welcome to the first project of the Data Scientist Nanodegree! In this notebook, some template code has already been provided for you, and it will be your job to implement the additional functionality necessary to successfully complete this project. Sections that begin with **'Implementation'** in the header indicate that the following block of code will require additional functionality which you must provide. Instructions will be provided for each section and the specifics of the implementation are marked in the code block with a `'TODO'` statement. Please be sure to read the instructions carefully!\n",
        "\n",
        "In addition to implementing code, there will be questions that you must answer which relate to the project and your implementation. Each section where you will answer a question is preceded by a **'Question X'** header. Carefully read each question and provide thorough answers in the following text boxes that begin with **'Answer:'**. Your project submission will be evaluated based on your answers to each of the questions and the implementation you provide.  \n",
        "\n",
        ">**Note:** Please specify WHICH VERSION OF PYTHON you are using when submitting this notebook. Code and Markdown cells can be executed using the **Shift + Enter** keyboard shortcut. In addition, Markdown cells can be edited by typically double-clicking the cell to enter edit mode.\n",
        "\n"
      ]
    },
    {
      "cell_type": "markdown",
      "metadata": {
        "id": "YaJzsUQiUOl-",
        "colab_type": "text"
      },
      "source": [
        "## Getting Started\n",
        "\n",
        "In this project, you will employ several supervised algorithms of your choice to accurately model individuals' income using data collected from the 1994 U.S. Census. You will then choose the best candidate algorithm from preliminary results and further optimize this algorithm to best model the data. Your goal with this implementation is to construct a model that accurately predicts whether an individual makes more than $50,000. This sort of task can arise in a non-profit setting, where organizations survive on donations.  Understanding an individual's income can help a non-profit better understand how large of a donation to request, or whether or not they should reach out to begin with.  While it can be difficult to determine an individual's general income bracket directly from public sources, we can (as we will see) infer this value from other publically available features. \n",
        "\n",
        "The dataset for this project originates from the [UCI Machine Learning Repository](https://archive.ics.uci.edu/ml/datasets/Census+Income). The datset was donated by Ron Kohavi and Barry Becker, after being published in the article _\"Scaling Up the Accuracy of Naive-Bayes Classifiers: A Decision-Tree Hybrid\"_. You can find the article by Ron Kohavi [online](https://www.aaai.org/Papers/KDD/1996/KDD96-033.pdf). The data we investigate here consists of small changes to the original dataset, such as removing the `'fnlwgt'` feature and records with missing or ill-formatted entries."
      ]
    },
    {
      "cell_type": "markdown",
      "metadata": {
        "id": "uhlHTG85UOl-",
        "colab_type": "text"
      },
      "source": [
        "----\n",
        "## Exploring the Data\n",
        "Run the code cell below to load necessary Python libraries and load the census data. Note that the last column from this dataset, `'income'`, will be our target label (whether an individual makes more than, or at most, $50,000 annually). All other columns are features about each individual in the census database."
      ]
    },
    {
      "cell_type": "code",
      "metadata": {
        "id": "q-SKUaQGUOl_",
        "colab_type": "code",
        "outputId": "54dd7470-a075-47a9-a891-d37a8cea6ae4",
        "colab": {
          "base_uri": "https://localhost:8080/",
          "height": 478
        }
      },
      "source": [
        "# Import libraries necessary for this project\n",
        "import numpy as np\n",
        "import pandas as pd\n",
        "from time import time\n",
        "from IPython.display import display # Allows the use of display() for DataFrames\n",
        "import re\n",
        "# Import supplementary visualization code visuals.py\n",
        "!wget https://raw.githubusercontent.com/sp7412/DSND_Term1/master/projects/p1_charityml/visuals.py\n",
        "import visuals as vs\n",
        "\n",
        "# Pretty display for notebooks\n",
        "%matplotlib inline\n",
        "\n",
        "# Load the Census dataset\n",
        "!wget https://raw.githubusercontent.com/sp7412/DSND_Term1/master/projects/p1_charityml/census.csv\n",
        "data = pd.read_csv(\"census.csv\")\n",
        "\n",
        "# Success - Display the first record\n",
        "display(data.head(n=1))"
      ],
      "execution_count": 52,
      "outputs": [
        {
          "output_type": "stream",
          "text": [
            "--2020-05-07 04:22:45--  https://raw.githubusercontent.com/sp7412/DSND_Term1/master/projects/p1_charityml/visuals.py\n",
            "Resolving raw.githubusercontent.com (raw.githubusercontent.com)... 151.101.0.133, 151.101.64.133, 151.101.128.133, ...\n",
            "Connecting to raw.githubusercontent.com (raw.githubusercontent.com)|151.101.0.133|:443... connected.\n",
            "HTTP request sent, awaiting response... 200 OK\n",
            "Length: 5396 (5.3K) [text/plain]\n",
            "Saving to: ‘visuals.py.3’\n",
            "\n",
            "\rvisuals.py.3          0%[                    ]       0  --.-KB/s               \rvisuals.py.3        100%[===================>]   5.27K  --.-KB/s    in 0s      \n",
            "\n",
            "2020-05-07 04:22:45 (71.1 MB/s) - ‘visuals.py.3’ saved [5396/5396]\n",
            "\n",
            "--2020-05-07 04:22:46--  https://raw.githubusercontent.com/sp7412/DSND_Term1/master/projects/p1_charityml/census.csv\n",
            "Resolving raw.githubusercontent.com (raw.githubusercontent.com)... 151.101.0.133, 151.101.64.133, 151.101.128.133, ...\n",
            "Connecting to raw.githubusercontent.com (raw.githubusercontent.com)|151.101.0.133|:443... connected.\n",
            "HTTP request sent, awaiting response... 200 OK\n",
            "Length: 5359441 (5.1M) [text/plain]\n",
            "Saving to: ‘census.csv.3’\n",
            "\n",
            "census.csv.3        100%[===================>]   5.11M  13.5MB/s    in 0.4s    \n",
            "\n",
            "2020-05-07 04:22:47 (13.5 MB/s) - ‘census.csv.3’ saved [5359441/5359441]\n",
            "\n"
          ],
          "name": "stdout"
        },
        {
          "output_type": "display_data",
          "data": {
            "text/html": [
              "<div>\n",
              "<style scoped>\n",
              "    .dataframe tbody tr th:only-of-type {\n",
              "        vertical-align: middle;\n",
              "    }\n",
              "\n",
              "    .dataframe tbody tr th {\n",
              "        vertical-align: top;\n",
              "    }\n",
              "\n",
              "    .dataframe thead th {\n",
              "        text-align: right;\n",
              "    }\n",
              "</style>\n",
              "<table border=\"1\" class=\"dataframe\">\n",
              "  <thead>\n",
              "    <tr style=\"text-align: right;\">\n",
              "      <th></th>\n",
              "      <th>age</th>\n",
              "      <th>workclass</th>\n",
              "      <th>education_level</th>\n",
              "      <th>education-num</th>\n",
              "      <th>marital-status</th>\n",
              "      <th>occupation</th>\n",
              "      <th>relationship</th>\n",
              "      <th>race</th>\n",
              "      <th>sex</th>\n",
              "      <th>capital-gain</th>\n",
              "      <th>capital-loss</th>\n",
              "      <th>hours-per-week</th>\n",
              "      <th>native-country</th>\n",
              "      <th>income</th>\n",
              "    </tr>\n",
              "  </thead>\n",
              "  <tbody>\n",
              "    <tr>\n",
              "      <th>0</th>\n",
              "      <td>39</td>\n",
              "      <td>State-gov</td>\n",
              "      <td>Bachelors</td>\n",
              "      <td>13.0</td>\n",
              "      <td>Never-married</td>\n",
              "      <td>Adm-clerical</td>\n",
              "      <td>Not-in-family</td>\n",
              "      <td>White</td>\n",
              "      <td>Male</td>\n",
              "      <td>2174.0</td>\n",
              "      <td>0.0</td>\n",
              "      <td>40.0</td>\n",
              "      <td>United-States</td>\n",
              "      <td>&lt;=50K</td>\n",
              "    </tr>\n",
              "  </tbody>\n",
              "</table>\n",
              "</div>"
            ],
            "text/plain": [
              "   age   workclass education_level  ...  hours-per-week  native-country income\n",
              "0   39   State-gov       Bachelors  ...            40.0   United-States  <=50K\n",
              "\n",
              "[1 rows x 14 columns]"
            ]
          },
          "metadata": {
            "tags": []
          }
        }
      ]
    },
    {
      "cell_type": "markdown",
      "metadata": {
        "id": "xhrkBYeuUOmD",
        "colab_type": "text"
      },
      "source": [
        "### Implementation: Data Exploration\n",
        "A cursory investigation of the dataset will determine how many individuals fit into either group, and will tell us about the percentage of these individuals making more than \\$50,000. In the code cell below, you will need to compute the following:\n",
        "- The total number of records, `'n_records'`\n",
        "- The number of individuals making more than \\$50,000 annually, `'n_greater_50k'`.\n",
        "- The number of individuals making at most \\$50,000 annually, `'n_at_most_50k'`.\n",
        "- The percentage of individuals making more than \\$50,000 annually, `'greater_percent'`.\n",
        "\n",
        "** HINT: ** You may need to look at the table above to understand how the `'income'` entries are formatted. "
      ]
    },
    {
      "cell_type": "code",
      "metadata": {
        "id": "xL8ku-UpUOmD",
        "colab_type": "code",
        "outputId": "6b4bfe99-e144-4fe3-a7e5-9119ccf395c2",
        "colab": {
          "base_uri": "https://localhost:8080/",
          "height": 90
        }
      },
      "source": [
        "# TODO: Total number of records\n",
        "n_records = data.shape[0]\n",
        "\n",
        "# TODO: Number of records where individual's income is more than $50,000\n",
        "n_greater_50k = sum(data.loc[ : , 'income' ].str.count(\">50k\",re.I))\n",
        "\n",
        "# TODO: Number of records where individual's income is at most $50,000\n",
        "n_at_most_50k = sum(data.loc[ : , 'income' ].str.count(\"<=50K\",re.I))\n",
        "\n",
        "# TODO: Percentage of individuals whose income is more than $50,000\n",
        "greater_percent = 100.0*n_greater_50k/n_records\n",
        "\n",
        "# Print the results\n",
        "print(\"Total number of records: {}\".format(n_records))\n",
        "print(\"Individuals making more than $50,000: {}\".format(n_greater_50k))\n",
        "print(\"Individuals making at most $50,000: {}\".format(n_at_most_50k))\n",
        "print(\"Percentage of individuals making more than $50,000: {}%\".format(greater_percent))"
      ],
      "execution_count": 53,
      "outputs": [
        {
          "output_type": "stream",
          "text": [
            "Total number of records: 45222\n",
            "Individuals making more than $50,000: 11208\n",
            "Individuals making at most $50,000: 34014\n",
            "Percentage of individuals making more than $50,000: 24.78439697492371%\n"
          ],
          "name": "stdout"
        }
      ]
    },
    {
      "cell_type": "markdown",
      "metadata": {
        "id": "sqGUJx5xUOmG",
        "colab_type": "text"
      },
      "source": [
        "** Featureset Exploration **\n",
        "\n",
        "* **age**: continuous. \n",
        "* **workclass**: Private, Self-emp-not-inc, Self-emp-inc, Federal-gov, Local-gov, State-gov, Without-pay, Never-worked. \n",
        "* **education**: Bachelors, Some-college, 11th, HS-grad, Prof-school, Assoc-acdm, Assoc-voc, 9th, 7th-8th, 12th, Masters, 1st-4th, 10th, Doctorate, 5th-6th, Preschool. \n",
        "* **education-num**: continuous. \n",
        "* **marital-status**: Married-civ-spouse, Divorced, Never-married, Separated, Widowed, Married-spouse-absent, Married-AF-spouse. \n",
        "* **occupation**: Tech-support, Craft-repair, Other-service, Sales, Exec-managerial, Prof-specialty, Handlers-cleaners, Machine-op-inspct, Adm-clerical, Farming-fishing, Transport-moving, Priv-house-serv, Protective-serv, Armed-Forces. \n",
        "* **relationship**: Wife, Own-child, Husband, Not-in-family, Other-relative, Unmarried. \n",
        "* **race**: Black, White, Asian-Pac-Islander, Amer-Indian-Eskimo, Other. \n",
        "* **sex**: Female, Male. \n",
        "* **capital-gain**: continuous. \n",
        "* **capital-loss**: continuous. \n",
        "* **hours-per-week**: continuous. \n",
        "* **native-country**: United-States, Cambodia, England, Puerto-Rico, Canada, Germany, Outlying-US(Guam-USVI-etc), India, Japan, Greece, South, China, Cuba, Iran, Honduras, Philippines, Italy, Poland, Jamaica, Vietnam, Mexico, Portugal, Ireland, France, Dominican-Republic, Laos, Ecuador, Taiwan, Haiti, Columbia, Hungary, Guatemala, Nicaragua, Scotland, Thailand, Yugoslavia, El-Salvador, Trinadad&Tobago, Peru, Hong, Holand-Netherlands."
      ]
    },
    {
      "cell_type": "markdown",
      "metadata": {
        "id": "uj5EfdA5UOmG",
        "colab_type": "text"
      },
      "source": [
        "----\n",
        "## Preparing the Data\n",
        "Before data can be used as input for machine learning algorithms, it often must be cleaned, formatted, and restructured — this is typically known as **preprocessing**. Fortunately, for this dataset, there are no invalid or missing entries we must deal with, however, there are some qualities about certain features that must be adjusted. This preprocessing can help tremendously with the outcome and predictive power of nearly all learning algorithms."
      ]
    },
    {
      "cell_type": "code",
      "metadata": {
        "id": "XSpJjZ9AHpEr",
        "colab_type": "code",
        "colab": {
          "base_uri": "https://localhost:8080/",
          "height": 399
        },
        "outputId": "af8eef1e-1a30-41b3-f0dd-ec2bac8070de"
      },
      "source": [
        "# Look at the data types\n",
        "data.info()"
      ],
      "execution_count": 54,
      "outputs": [
        {
          "output_type": "stream",
          "text": [
            "<class 'pandas.core.frame.DataFrame'>\n",
            "RangeIndex: 45222 entries, 0 to 45221\n",
            "Data columns (total 14 columns):\n",
            " #   Column           Non-Null Count  Dtype  \n",
            "---  ------           --------------  -----  \n",
            " 0   age              45222 non-null  int64  \n",
            " 1   workclass        45222 non-null  object \n",
            " 2   education_level  45222 non-null  object \n",
            " 3   education-num    45222 non-null  float64\n",
            " 4   marital-status   45222 non-null  object \n",
            " 5   occupation       45222 non-null  object \n",
            " 6   relationship     45222 non-null  object \n",
            " 7   race             45222 non-null  object \n",
            " 8   sex              45222 non-null  object \n",
            " 9   capital-gain     45222 non-null  float64\n",
            " 10  capital-loss     45222 non-null  float64\n",
            " 11  hours-per-week   45222 non-null  float64\n",
            " 12  native-country   45222 non-null  object \n",
            " 13  income           45222 non-null  object \n",
            "dtypes: float64(4), int64(1), object(9)\n",
            "memory usage: 4.8+ MB\n"
          ],
          "name": "stdout"
        }
      ]
    },
    {
      "cell_type": "code",
      "metadata": {
        "id": "qH9czrV_HxI3",
        "colab_type": "code",
        "colab": {
          "base_uri": "https://localhost:8080/",
          "height": 288
        },
        "outputId": "50de16f1-a081-4502-b636-bdbcf85d87b0"
      },
      "source": [
        "# Since all the data are numbers, let's look at the statistics\n",
        "data.describe()"
      ],
      "execution_count": 55,
      "outputs": [
        {
          "output_type": "execute_result",
          "data": {
            "text/html": [
              "<div>\n",
              "<style scoped>\n",
              "    .dataframe tbody tr th:only-of-type {\n",
              "        vertical-align: middle;\n",
              "    }\n",
              "\n",
              "    .dataframe tbody tr th {\n",
              "        vertical-align: top;\n",
              "    }\n",
              "\n",
              "    .dataframe thead th {\n",
              "        text-align: right;\n",
              "    }\n",
              "</style>\n",
              "<table border=\"1\" class=\"dataframe\">\n",
              "  <thead>\n",
              "    <tr style=\"text-align: right;\">\n",
              "      <th></th>\n",
              "      <th>age</th>\n",
              "      <th>education-num</th>\n",
              "      <th>capital-gain</th>\n",
              "      <th>capital-loss</th>\n",
              "      <th>hours-per-week</th>\n",
              "    </tr>\n",
              "  </thead>\n",
              "  <tbody>\n",
              "    <tr>\n",
              "      <th>count</th>\n",
              "      <td>45222.000000</td>\n",
              "      <td>45222.000000</td>\n",
              "      <td>45222.000000</td>\n",
              "      <td>45222.000000</td>\n",
              "      <td>45222.000000</td>\n",
              "    </tr>\n",
              "    <tr>\n",
              "      <th>mean</th>\n",
              "      <td>38.547941</td>\n",
              "      <td>10.118460</td>\n",
              "      <td>1101.430344</td>\n",
              "      <td>88.595418</td>\n",
              "      <td>40.938017</td>\n",
              "    </tr>\n",
              "    <tr>\n",
              "      <th>std</th>\n",
              "      <td>13.217870</td>\n",
              "      <td>2.552881</td>\n",
              "      <td>7506.430084</td>\n",
              "      <td>404.956092</td>\n",
              "      <td>12.007508</td>\n",
              "    </tr>\n",
              "    <tr>\n",
              "      <th>min</th>\n",
              "      <td>17.000000</td>\n",
              "      <td>1.000000</td>\n",
              "      <td>0.000000</td>\n",
              "      <td>0.000000</td>\n",
              "      <td>1.000000</td>\n",
              "    </tr>\n",
              "    <tr>\n",
              "      <th>25%</th>\n",
              "      <td>28.000000</td>\n",
              "      <td>9.000000</td>\n",
              "      <td>0.000000</td>\n",
              "      <td>0.000000</td>\n",
              "      <td>40.000000</td>\n",
              "    </tr>\n",
              "    <tr>\n",
              "      <th>50%</th>\n",
              "      <td>37.000000</td>\n",
              "      <td>10.000000</td>\n",
              "      <td>0.000000</td>\n",
              "      <td>0.000000</td>\n",
              "      <td>40.000000</td>\n",
              "    </tr>\n",
              "    <tr>\n",
              "      <th>75%</th>\n",
              "      <td>47.000000</td>\n",
              "      <td>13.000000</td>\n",
              "      <td>0.000000</td>\n",
              "      <td>0.000000</td>\n",
              "      <td>45.000000</td>\n",
              "    </tr>\n",
              "    <tr>\n",
              "      <th>max</th>\n",
              "      <td>90.000000</td>\n",
              "      <td>16.000000</td>\n",
              "      <td>99999.000000</td>\n",
              "      <td>4356.000000</td>\n",
              "      <td>99.000000</td>\n",
              "    </tr>\n",
              "  </tbody>\n",
              "</table>\n",
              "</div>"
            ],
            "text/plain": [
              "                age  education-num  capital-gain  capital-loss  hours-per-week\n",
              "count  45222.000000   45222.000000  45222.000000  45222.000000    45222.000000\n",
              "mean      38.547941      10.118460   1101.430344     88.595418       40.938017\n",
              "std       13.217870       2.552881   7506.430084    404.956092       12.007508\n",
              "min       17.000000       1.000000      0.000000      0.000000        1.000000\n",
              "25%       28.000000       9.000000      0.000000      0.000000       40.000000\n",
              "50%       37.000000      10.000000      0.000000      0.000000       40.000000\n",
              "75%       47.000000      13.000000      0.000000      0.000000       45.000000\n",
              "max       90.000000      16.000000  99999.000000   4356.000000       99.000000"
            ]
          },
          "metadata": {
            "tags": []
          },
          "execution_count": 55
        }
      ]
    },
    {
      "cell_type": "code",
      "metadata": {
        "id": "LWvNO-2gH7s9",
        "colab_type": "code",
        "colab": {
          "base_uri": "https://localhost:8080/",
          "height": 283
        },
        "outputId": "34c8e7a9-5995-4121-e87c-4d214de9e355"
      },
      "source": [
        "data.plot()"
      ],
      "execution_count": 56,
      "outputs": [
        {
          "output_type": "execute_result",
          "data": {
            "text/plain": [
              "<matplotlib.axes._subplots.AxesSubplot at 0x7fda85292e10>"
            ]
          },
          "metadata": {
            "tags": []
          },
          "execution_count": 56
        },
        {
          "output_type": "display_data",
          "data": {
            "image/png": "[encoded data removed]",
            "text/plain": [
              "<Figure size 432x288 with 1 Axes>"
            ]
          },
          "metadata": {
            "tags": [],
            "needs_background": "light"
          }
        }
      ]
    },
    {
      "cell_type": "code",
      "metadata": {
        "id": "li3RC11wH_Op",
        "colab_type": "code",
        "colab": {
          "base_uri": "https://localhost:8080/",
          "height": 408
        },
        "outputId": "0b981845-ada5-46c6-a795-b5ca58de9546"
      },
      "source": [
        "data.hist()"
      ],
      "execution_count": 57,
      "outputs": [
        {
          "output_type": "execute_result",
          "data": {
            "text/plain": [
              "array([[<matplotlib.axes._subplots.AxesSubplot object at 0x7fda7c21a208>,\n",
              "        <matplotlib.axes._subplots.AxesSubplot object at 0x7fda7c1bc898>],\n",
              "       [<matplotlib.axes._subplots.AxesSubplot object at 0x7fda7c1ecb00>,\n",
              "        <matplotlib.axes._subplots.AxesSubplot object at 0x7fda7c19ed68>],\n",
              "       [<matplotlib.axes._subplots.AxesSubplot object at 0x7fda7c14ffd0>,\n",
              "        <matplotlib.axes._subplots.AxesSubplot object at 0x7fda7c10b278>]],\n",
              "      dtype=object)"
            ]
          },
          "metadata": {
            "tags": []
          },
          "execution_count": 57
        },
        {
          "output_type": "display_data",
          "data": {
            "image/png": "[encoded data removed]",
            "text/plain": [
              "<Figure size 432x288 with 6 Axes>"
            ]
          },
          "metadata": {
            "tags": [],
            "needs_background": "light"
          }
        }
      ]
    },
    {
      "cell_type": "markdown",
      "metadata": {
        "id": "EM5oUiqVUOmH",
        "colab_type": "text"
      },
      "source": [
        "### Transforming Skewed Continuous Features\n",
        "A dataset may sometimes contain at least one feature whose values tend to lie near a single number, but will also have a non-trivial number of vastly larger or smaller values than that single number.  Algorithms can be sensitive to such distributions of values and can underperform if the range is not properly normalized. With the census dataset two features fit this description: '`capital-gain'` and `'capital-loss'`. \n",
        "\n",
        "Run the code cell below to plot a histogram of these two features. Note the range of the values present and how they are distributed."
      ]
    },
    {
      "cell_type": "code",
      "metadata": {
        "id": "guMPS-cdUOmH",
        "colab_type": "code",
        "outputId": "94d69b04-3ee6-4bc3-a9b7-51065cb10428",
        "colab": {
          "base_uri": "https://localhost:8080/",
          "height": 391
        }
      },
      "source": [
        "# Split the data into features and target label\n",
        "income_raw = data['income']\n",
        "features_raw = data.drop('income', axis = 1)\n",
        "\n",
        "# Visualize skewed continuous features of original data\n",
        "vs.distribution(data)"
      ],
      "execution_count": 58,
      "outputs": [
        {
          "output_type": "display_data",
          "data": {
            "image/png": "[encoded data removed]",
            "text/plain": [
              "<Figure size 792x360 with 2 Axes>"
            ]
          },
          "metadata": {
            "tags": [],
            "needs_background": "light"
          }
        }
      ]
    },
    {
      "cell_type": "markdown",
      "metadata": {
        "id": "ymFeIM70UOmK",
        "colab_type": "text"
      },
      "source": [
        "For highly-skewed feature distributions such as `'capital-gain'` and `'capital-loss'`, it is common practice to apply a <a href=\"https://en.wikipedia.org/wiki/Data_transformation_(statistics)\">logarithmic transformation</a> on the data so that the very large and very small values do not negatively affect the performance of a learning algorithm. Using a logarithmic transformation significantly reduces the range of values caused by outliers. Care must be taken when applying this transformation however: The logarithm of `0` is undefined, so we must translate the values by a small amount above `0` to apply the the logarithm successfully.\n",
        "\n",
        "Run the code cell below to perform a transformation on the data and visualize the results. Again, note the range of values and how they are distributed. "
      ]
    },
    {
      "cell_type": "code",
      "metadata": {
        "id": "9lRHt5KLUOmL",
        "colab_type": "code",
        "outputId": "4bde643e-ce26-4aba-c0c6-0b2ffe95d56b",
        "colab": {
          "base_uri": "https://localhost:8080/",
          "height": 391
        }
      },
      "source": [
        "# Log-transform the skewed features\n",
        "skewed = ['capital-gain', 'capital-loss']\n",
        "features_log_transformed = pd.DataFrame(data = features_raw)\n",
        "features_log_transformed[skewed] = features_raw[skewed].apply(lambda x: np.log(x + 1))\n",
        "\n",
        "# Visualize the new log distributions\n",
        "vs.distribution(features_log_transformed, transformed = True)"
      ],
      "execution_count": 59,
      "outputs": [
        {
          "output_type": "display_data",
          "data": {
            "image/png": "[encoded data removed]",
            "text/plain": [
              "<Figure size 792x360 with 2 Axes>"
            ]
          },
          "metadata": {
            "tags": [],
            "needs_background": "light"
          }
        }
      ]
    },
    {
      "cell_type": "markdown",
      "metadata": {
        "id": "QKt5mSGCUOmN",
        "colab_type": "text"
      },
      "source": [
        "### Normalizing Numerical Features\n",
        "In addition to performing transformations on features that are highly skewed, it is often good practice to perform some type of scaling on numerical features. Applying a scaling to the data does not change the shape of each feature's distribution (such as `'capital-gain'` or `'capital-loss'` above); however, normalization ensures that each feature is treated equally when applying supervised learners. Note that once scaling is applied, observing the data in its raw form will no longer have the same original meaning, as exampled below.\n",
        "\n",
        "Run the code cell below to normalize each numerical feature. We will use [`sklearn.preprocessing.MinMaxScaler`](http://scikit-learn.org/stable/modules/generated/sklearn.preprocessing.MinMaxScaler.html) for this."
      ]
    },
    {
      "cell_type": "code",
      "metadata": {
        "id": "-Ffa6iyDUOmO",
        "colab_type": "code",
        "outputId": "b048a424-259b-4a02-c719-37d1c0235586",
        "colab": {
          "base_uri": "https://localhost:8080/",
          "height": 198
        }
      },
      "source": [
        "# Import sklearn.preprocessing.StandardScaler\n",
        "from sklearn.preprocessing import MinMaxScaler\n",
        "\n",
        "# Initialize a scaler, then apply it to the features\n",
        "scaler = MinMaxScaler() # default=(0, 1)\n",
        "numerical = ['age', 'education-num', 'capital-gain', 'capital-loss', 'hours-per-week']\n",
        "\n",
        "features_log_minmax_transform = pd.DataFrame(data = features_log_transformed)\n",
        "features_log_minmax_transform[numerical] = scaler.fit_transform(features_log_transformed[numerical])\n",
        "\n",
        "# Show an example of a record with scaling applied\n",
        "display(features_log_minmax_transform.head(n = 5))"
      ],
      "execution_count": 60,
      "outputs": [
        {
          "output_type": "display_data",
          "data": {
            "text/html": [
              "<div>\n",
              "<style scoped>\n",
              "    .dataframe tbody tr th:only-of-type {\n",
              "        vertical-align: middle;\n",
              "    }\n",
              "\n",
              "    .dataframe tbody tr th {\n",
              "        vertical-align: top;\n",
              "    }\n",
              "\n",
              "    .dataframe thead th {\n",
              "        text-align: right;\n",
              "    }\n",
              "</style>\n",
              "<table border=\"1\" class=\"dataframe\">\n",
              "  <thead>\n",
              "    <tr style=\"text-align: right;\">\n",
              "      <th></th>\n",
              "      <th>age</th>\n",
              "      <th>workclass</th>\n",
              "      <th>education_level</th>\n",
              "      <th>education-num</th>\n",
              "      <th>marital-status</th>\n",
              "      <th>occupation</th>\n",
              "      <th>relationship</th>\n",
              "      <th>race</th>\n",
              "      <th>sex</th>\n",
              "      <th>capital-gain</th>\n",
              "      <th>capital-loss</th>\n",
              "      <th>hours-per-week</th>\n",
              "      <th>native-country</th>\n",
              "    </tr>\n",
              "  </thead>\n",
              "  <tbody>\n",
              "    <tr>\n",
              "      <th>0</th>\n",
              "      <td>0.301370</td>\n",
              "      <td>State-gov</td>\n",
              "      <td>Bachelors</td>\n",
              "      <td>0.800000</td>\n",
              "      <td>Never-married</td>\n",
              "      <td>Adm-clerical</td>\n",
              "      <td>Not-in-family</td>\n",
              "      <td>White</td>\n",
              "      <td>Male</td>\n",
              "      <td>0.667492</td>\n",
              "      <td>0.0</td>\n",
              "      <td>0.397959</td>\n",
              "      <td>United-States</td>\n",
              "    </tr>\n",
              "    <tr>\n",
              "      <th>1</th>\n",
              "      <td>0.452055</td>\n",
              "      <td>Self-emp-not-inc</td>\n",
              "      <td>Bachelors</td>\n",
              "      <td>0.800000</td>\n",
              "      <td>Married-civ-spouse</td>\n",
              "      <td>Exec-managerial</td>\n",
              "      <td>Husband</td>\n",
              "      <td>White</td>\n",
              "      <td>Male</td>\n",
              "      <td>0.000000</td>\n",
              "      <td>0.0</td>\n",
              "      <td>0.122449</td>\n",
              "      <td>United-States</td>\n",
              "    </tr>\n",
              "    <tr>\n",
              "      <th>2</th>\n",
              "      <td>0.287671</td>\n",
              "      <td>Private</td>\n",
              "      <td>HS-grad</td>\n",
              "      <td>0.533333</td>\n",
              "      <td>Divorced</td>\n",
              "      <td>Handlers-cleaners</td>\n",
              "      <td>Not-in-family</td>\n",
              "      <td>White</td>\n",
              "      <td>Male</td>\n",
              "      <td>0.000000</td>\n",
              "      <td>0.0</td>\n",
              "      <td>0.397959</td>\n",
              "      <td>United-States</td>\n",
              "    </tr>\n",
              "    <tr>\n",
              "      <th>3</th>\n",
              "      <td>0.493151</td>\n",
              "      <td>Private</td>\n",
              "      <td>11th</td>\n",
              "      <td>0.400000</td>\n",
              "      <td>Married-civ-spouse</td>\n",
              "      <td>Handlers-cleaners</td>\n",
              "      <td>Husband</td>\n",
              "      <td>Black</td>\n",
              "      <td>Male</td>\n",
              "      <td>0.000000</td>\n",
              "      <td>0.0</td>\n",
              "      <td>0.397959</td>\n",
              "      <td>United-States</td>\n",
              "    </tr>\n",
              "    <tr>\n",
              "      <th>4</th>\n",
              "      <td>0.150685</td>\n",
              "      <td>Private</td>\n",
              "      <td>Bachelors</td>\n",
              "      <td>0.800000</td>\n",
              "      <td>Married-civ-spouse</td>\n",
              "      <td>Prof-specialty</td>\n",
              "      <td>Wife</td>\n",
              "      <td>Black</td>\n",
              "      <td>Female</td>\n",
              "      <td>0.000000</td>\n",
              "      <td>0.0</td>\n",
              "      <td>0.397959</td>\n",
              "      <td>Cuba</td>\n",
              "    </tr>\n",
              "  </tbody>\n",
              "</table>\n",
              "</div>"
            ],
            "text/plain": [
              "        age          workclass  ... hours-per-week  native-country\n",
              "0  0.301370          State-gov  ...       0.397959   United-States\n",
              "1  0.452055   Self-emp-not-inc  ...       0.122449   United-States\n",
              "2  0.287671            Private  ...       0.397959   United-States\n",
              "3  0.493151            Private  ...       0.397959   United-States\n",
              "4  0.150685            Private  ...       0.397959            Cuba\n",
              "\n",
              "[5 rows x 13 columns]"
            ]
          },
          "metadata": {
            "tags": []
          }
        }
      ]
    },
    {
      "cell_type": "markdown",
      "metadata": {
        "id": "Ta96LfIWUOmR",
        "colab_type": "text"
      },
      "source": [
        "### Implementation: Data Preprocessing\n",
        "\n",
        "From the table in **Exploring the Data** above, we can see there are several features for each record that are non-numeric. Typically, learning algorithms expect input to be numeric, which requires that non-numeric features (called *categorical variables*) be converted. One popular way to convert categorical variables is by using the **one-hot encoding** scheme. One-hot encoding creates a _\"dummy\"_ variable for each possible category of each non-numeric feature. For example, assume `someFeature` has three possible entries: `A`, `B`, or `C`. We then encode this feature into `someFeature_A`, `someFeature_B` and `someFeature_C`.\n",
        "\n",
        "|   | someFeature |                    | someFeature_A | someFeature_B | someFeature_C |\n",
        "| :-: | :-: |                            | :-: | :-: | :-: |\n",
        "| 0 |  B  |  | 0 | 1 | 0 |\n",
        "| 1 |  C  | ----> one-hot encode ----> | 0 | 0 | 1 |\n",
        "| 2 |  A  |  | 1 | 0 | 0 |\n",
        "\n",
        "Additionally, as with the non-numeric features, we need to convert the non-numeric target label, `'income'` to numerical values for the learning algorithm to work. Since there are only two possible categories for this label (\"<=50K\" and \">50K\"), we can avoid using one-hot encoding and simply encode these two categories as `0` and `1`, respectively. In code cell below, you will need to implement the following:\n",
        " - Use [`pandas.get_dummies()`](http://pandas.pydata.org/pandas-docs/stable/generated/pandas.get_dummies.html?highlight=get_dummies#pandas.get_dummies) to perform one-hot encoding on the `'features_log_minmax_transform'` data.\n",
        " - Convert the target label `'income_raw'` to numerical entries.\n",
        "   - Set records with \"<=50K\" to `0` and records with \">50K\" to `1`."
      ]
    },
    {
      "cell_type": "code",
      "metadata": {
        "scrolled": true,
        "id": "wWrBpFqDUOmS",
        "colab_type": "code",
        "outputId": "cf3d4dbd-80ca-4bac-cf6e-e1e512835d2c",
        "colab": {
          "base_uri": "https://localhost:8080/",
          "height": 74
        }
      },
      "source": [
        "# TODO: One-hot encode the 'features_log_minmax_transform' data using pandas.get_dummies()\n",
        "features_final = pd.get_dummies(features_log_minmax_transform)\n",
        "\n",
        "# TODO: Encode the 'income_raw' data to numerical values\n",
        "income = [0 if x == '<=50K' else 1 for x in data['income']]\n",
        "\n",
        "# Print the number of features after one-hot encoding\n",
        "encoded = list(features_final.columns)\n",
        "print(\"{} total features after one-hot encoding.\".format(len(encoded)))\n",
        "\n",
        "# Uncomment the following line to see the encoded feature names\n",
        "print(encoded)"
      ],
      "execution_count": 61,
      "outputs": [
        {
          "output_type": "stream",
          "text": [
            "103 total features after one-hot encoding.\n",
            "['age', 'education-num', 'capital-gain', 'capital-loss', 'hours-per-week', 'workclass_ Federal-gov', 'workclass_ Local-gov', 'workclass_ Private', 'workclass_ Self-emp-inc', 'workclass_ Self-emp-not-inc', 'workclass_ State-gov', 'workclass_ Without-pay', 'education_level_ 10th', 'education_level_ 11th', 'education_level_ 12th', 'education_level_ 1st-4th', 'education_level_ 5th-6th', 'education_level_ 7th-8th', 'education_level_ 9th', 'education_level_ Assoc-acdm', 'education_level_ Assoc-voc', 'education_level_ Bachelors', 'education_level_ Doctorate', 'education_level_ HS-grad', 'education_level_ Masters', 'education_level_ Preschool', 'education_level_ Prof-school', 'education_level_ Some-college', 'marital-status_ Divorced', 'marital-status_ Married-AF-spouse', 'marital-status_ Married-civ-spouse', 'marital-status_ Married-spouse-absent', 'marital-status_ Never-married', 'marital-status_ Separated', 'marital-status_ Widowed', 'occupation_ Adm-clerical', 'occupation_ Armed-Forces', 'occupation_ Craft-repair', 'occupation_ Exec-managerial', 'occupation_ Farming-fishing', 'occupation_ Handlers-cleaners', 'occupation_ Machine-op-inspct', 'occupation_ Other-service', 'occupation_ Priv-house-serv', 'occupation_ Prof-specialty', 'occupation_ Protective-serv', 'occupation_ Sales', 'occupation_ Tech-support', 'occupation_ Transport-moving', 'relationship_ Husband', 'relationship_ Not-in-family', 'relationship_ Other-relative', 'relationship_ Own-child', 'relationship_ Unmarried', 'relationship_ Wife', 'race_ Amer-Indian-Eskimo', 'race_ Asian-Pac-Islander', 'race_ Black', 'race_ Other', 'race_ White', 'sex_ Female', 'sex_ Male', 'native-country_ Cambodia', 'native-country_ Canada', 'native-country_ China', 'native-country_ Columbia', 'native-country_ Cuba', 'native-country_ Dominican-Republic', 'native-country_ Ecuador', 'native-country_ El-Salvador', 'native-country_ England', 'native-country_ France', 'native-country_ Germany', 'native-country_ Greece', 'native-country_ Guatemala', 'native-country_ Haiti', 'native-country_ Holand-Netherlands', 'native-country_ Honduras', 'native-country_ Hong', 'native-country_ Hungary', 'native-country_ India', 'native-country_ Iran', 'native-country_ Ireland', 'native-country_ Italy', 'native-country_ Jamaica', 'native-country_ Japan', 'native-country_ Laos', 'native-country_ Mexico', 'native-country_ Nicaragua', 'native-country_ Outlying-US(Guam-USVI-etc)', 'native-country_ Peru', 'native-country_ Philippines', 'native-country_ Poland', 'native-country_ Portugal', 'native-country_ Puerto-Rico', 'native-country_ Scotland', 'native-country_ South', 'native-country_ Taiwan', 'native-country_ Thailand', 'native-country_ Trinadad&Tobago', 'native-country_ United-States', 'native-country_ Vietnam', 'native-country_ Yugoslavia']\n"
          ],
          "name": "stdout"
        }
      ]
    },
    {
      "cell_type": "markdown",
      "metadata": {
        "id": "hLLMLA4MUOmV",
        "colab_type": "text"
      },
      "source": [
        "### Shuffle and Split Data\n",
        "Now all _categorical variables_ have been converted into numerical features, and all numerical features have been normalized. As always, we will now split the data (both features and their labels) into training and test sets. 80% of the data will be used for training and 20% for testing.\n",
        "\n",
        "Run the code cell below to perform this split."
      ]
    },
    {
      "cell_type": "code",
      "metadata": {
        "id": "d-YuigzvUOmV",
        "colab_type": "code",
        "outputId": "f0015d96-48bf-4e75-cded-6ca51cd057ef",
        "colab": {
          "base_uri": "https://localhost:8080/",
          "height": 54
        }
      },
      "source": [
        "# Import train_test_split\n",
        "from sklearn.model_selection import train_test_split\n",
        "\n",
        "# Split the 'features' and 'income' data into training and testing sets\n",
        "X_train, X_test, y_train, y_test = train_test_split(features_final, \n",
        "                                                    income, \n",
        "                                                    test_size = 0.2, \n",
        "                                                    random_state = 0)\n",
        "\n",
        "# Show the results of the split\n",
        "print(\"Training set has {} samples.\".format(X_train.shape[0]))\n",
        "print(\"Testing set has {} samples.\".format(X_test.shape[0]))"
      ],
      "execution_count": 62,
      "outputs": [
        {
          "output_type": "stream",
          "text": [
            "Training set has 36177 samples.\n",
            "Testing set has 9045 samples.\n"
          ],
          "name": "stdout"
        }
      ]
    },
    {
      "cell_type": "markdown",
      "metadata": {
        "id": "2PwWvT-vUOmY",
        "colab_type": "text"
      },
      "source": [
        "----\n",
        "## Evaluating Model Performance\n",
        "In this section, we will investigate four different algorithms, and determine which is best at modeling the data. Three of these algorithms will be supervised learners of your choice, and the fourth algorithm is known as a *naive predictor*."
      ]
    },
    {
      "cell_type": "markdown",
      "metadata": {
        "id": "wTyLy74uUOmY",
        "colab_type": "text"
      },
      "source": [
        "### Metrics and the Naive Predictor\n",
        "*CharityML*, equipped with their research, knows individuals that make more than \\$50,000 are most likely to donate to their charity. Because of this, *CharityML* is particularly interested in predicting who makes more than \\$50,000 accurately. It would seem that using **accuracy** as a metric for evaluating a particular model's performace would be appropriate. Additionally, identifying someone that *does not* make more than \\$50,000 as someone who does would be detrimental to *CharityML*, since they are looking to find individuals willing to donate. Therefore, a model's ability to precisely predict those that make more than \\$50,000 is *more important* than the model's ability to **recall** those individuals. We can use **F-beta score** as a metric that considers both precision and recall:\n",
        "\n",
        "$$ F_{\\beta} = (1 + \\beta^2) \\cdot \\frac{precision \\cdot recall}{\\left( \\beta^2 \\cdot precision \\right) + recall} $$\n",
        "\n",
        "In particular, when $\\beta = 0.5$, more emphasis is placed on precision. This is called the **F$_{0.5}$ score** (or F-score for simplicity).\n",
        "\n",
        "Looking at the distribution of classes (those who make at most \\$50,000, and those who make more), it's clear most individuals do not make more than \\$50,000. This can greatly affect **accuracy**, since we could simply say \"this person does not make more than \\$50,000\" and generally be right, without ever looking at the data! Making such a statement would be called **naive**, since we have not considered any information to substantiate the claim. It is always important to consider the *naive prediction* for your data, to help establish a benchmark for whether a model is performing well. That been said, using that prediction would be pointless: If we predicted all people made less than \\$50,000, *CharityML* would identify no one as donors. \n",
        "\n",
        "\n",
        "#### Note: Recap of accuracy, precision, recall\n",
        "\n",
        "** Accuracy ** measures how often the classifier makes the correct prediction. It’s the ratio of the number of correct predictions to the total number of predictions (the number of test data points).\n",
        "\n",
        "** Precision ** tells us what proportion of messages we classified as spam, actually were spam.\n",
        "It is a ratio of true positives(words classified as spam, and which are actually spam) to all positives(all words classified as spam, irrespective of whether that was the correct classificatio), in other words it is the ratio of\n",
        "\n",
        "`[True Positives/(True Positives + False Positives)]`\n",
        "\n",
        "** Recall(sensitivity)** tells us what proportion of messages that actually were spam were classified by us as spam.\n",
        "It is a ratio of true positives(words classified as spam, and which are actually spam) to all the words that were actually spam, in other words it is the ratio of\n",
        "\n",
        "`[True Positives/(True Positives + False Negatives)]`\n",
        "\n",
        "For classification problems that are skewed in their classification distributions like in our case, for example if we had a 100 text messages and only 2 were spam and the rest 98 weren't, accuracy by itself is not a very good metric. We could classify 90 messages as not spam(including the 2 that were spam but we classify them as not spam, hence they would be false negatives) and 10 as spam(all 10 false positives) and still get a reasonably good accuracy score. For such cases, precision and recall come in very handy. These two metrics can be combined to get the F1 score, which is weighted average(harmonic mean) of the precision and recall scores. This score can range from 0 to 1, with 1 being the best possible F1 score(we take the harmonic mean as we are dealing with ratios)."
      ]
    },
    {
      "cell_type": "markdown",
      "metadata": {
        "id": "YGF59IFrRmE-",
        "colab_type": "text"
      },
      "source": [
        ""
      ]
    },
    {
      "cell_type": "markdown",
      "metadata": {
        "id": "mwZCdVP_UOmY",
        "colab_type": "text"
      },
      "source": [
        "### Question 1 - Naive Predictor Performace\n",
        "* If we chose a model that always predicted an individual made more than $50,000, what would  that model's accuracy and F-score be on this dataset? You must use the code cell below and assign your results to `'accuracy'` and `'fscore'` to be used later.\n",
        "\n",
        "** Please note ** that the the purpose of generating a naive predictor is simply to show what a base model without any intelligence would look like. In the real world, ideally your base model would be either the results of a previous model or could be based on a research paper upon which you are looking to improve. When there is no benchmark model set, getting a result better than random choice is a place you could start from.\n",
        "\n",
        "** HINT: ** \n",
        "\n",
        "* When we have a model that always predicts '1' (i.e. the individual makes more than 50k) then our model will have no True Negatives(TN) or False Negatives(FN) as we are not making any negative('0' value) predictions. Therefore our Accuracy in this case becomes the same as our Precision(True Positives/(True Positives + False Positives)) as every prediction that we have made with value '1' that should have '0' becomes a False Positive; therefore our denominator in this case is the total number of records we have in total. \n",
        "* Our Recall score(True Positives/(True Positives + False Negatives)) in this setting becomes 1 as we have no False Negatives."
      ]
    },
    {
      "cell_type": "code",
      "metadata": {
        "id": "k6w2l4ZFUOmZ",
        "colab_type": "code",
        "colab": {
          "base_uri": "https://localhost:8080/",
          "height": 35
        },
        "outputId": "d5091c16-252a-45ac-907b-d328ef3f71e5"
      },
      "source": [
        "'''\n",
        "TP = np.sum(income) # Counting the ones as this is the naive case. Note that 'income' is the 'income_raw' data \n",
        "encoded to numerical values done in the data preprocessing step.\n",
        "FP = income.count() - TP # Specific to the naive case\n",
        "\n",
        "TN = 0 # No predicted negatives in the naive case\n",
        "FN = 0 # No predicted negatives in the naive case\n",
        "'''\n",
        "income = [0 if x == '<=50K' else 1 for x in data['income']]\n",
        "\n",
        "TP = np.sum(income)\n",
        "FP = len(income) - TP\n",
        "TN = 0\n",
        "FN = 0\n",
        "\n",
        "# TODO: Calculate accuracy, precision and recall\n",
        "#accuracy = n_greater_50k/n_records\n",
        "accuracy = (TP+TN)/(TP+FP+TN+FN)\n",
        "recall = TP/(TP+FN)\n",
        "precision = TP/(TP+FP)\n",
        "\n",
        "# TODO: Calculate F-score using the formula above for beta = 0.5 and correct values for precision and recall.\n",
        "beta = 0.5\n",
        "fscore = (1+beta**2)*precision*recall/((beta**2)*precision+recall)\n",
        "\n",
        "# Print the results \n",
        "print(\"Naive Predictor: [Accuracy score: {:.4f}, F-score: {:.4f}]\".format(accuracy, fscore))"
      ],
      "execution_count": 63,
      "outputs": [
        {
          "output_type": "stream",
          "text": [
            "Naive Predictor: [Accuracy score: 0.2478, F-score: 0.2917]\n"
          ],
          "name": "stdout"
        }
      ]
    },
    {
      "cell_type": "markdown",
      "metadata": {
        "id": "iCdz2s5iUOme",
        "colab_type": "text"
      },
      "source": [
        "###  Supervised Learning Models\n",
        "**The following are some of the supervised learning models that are currently available in** [`scikit-learn`](http://scikit-learn.org/stable/supervised_learning.html) **that you may choose from:**\n",
        "- Gaussian Naive Bayes (GaussianNB)\n",
        "- Decision Trees\n",
        "- Ensemble Methods (Bagging, AdaBoost, Random Forest, Gradient Boosting)\n",
        "- K-Nearest Neighbors (KNeighbors)\n",
        "- Stochastic Gradient Descent Classifier (SGDC)\n",
        "- Support Vector Machines (SVM)\n",
        "- Logistic Regression"
      ]
    },
    {
      "cell_type": "markdown",
      "metadata": {
        "id": "DTa6QanYUOmf",
        "colab_type": "text"
      },
      "source": [
        "### Question 2 - Model Application\n",
        "List three of the supervised learning models above that are appropriate for this problem that you will test on the census data. For each model chosen\n",
        "\n",
        "- Describe one real-world application in industry where the model can be applied. \n",
        "- What are the strengths of the model; when does it perform well?\n",
        "- What are the weaknesses of the model; when does it perform poorly?\n",
        "- What makes this model a good candidate for the problem, given what you know about the data?\n",
        "\n",
        "** HINT: **\n",
        "\n",
        "Structure your answer in the same format as above^, with 4 parts for each of the three models you pick. Please include references with your answer."
      ]
    },
    {
      "cell_type": "markdown",
      "metadata": {
        "id": "0aKgLIkBUOmg",
        "colab_type": "text"
      },
      "source": [
        "**Answer: **\n",
        "\n",
        "**1. [Gaussian Naive Bayes](https://towardsdatascience.com/naive-bayes-classifier-explained-50f9723571ed) (GaussianNB)**\n",
        "* Real-world application: email spam classification\n",
        "* Uses features to make a prediction on a target variable\n",
        "* Describe one real-world application in industry where the model can be applied.\n",
        "* PROs: It is easy to build, good for large datasets, ignores irrelevant features\n",
        "* CONs: Assumes that features are independent of each other and there is no correlation between features; this potentially makes it less accurate than other more complicated algorithms\n",
        "* We need to construct a model that accurately predicts whether an individual makes more than $50,000. This is analogus to classifying email as spam or not spam.\n",
        "\n",
        "**2. [Decision Trees](https://medium.com/@dhiraj8899/top-5-advantages-and-disadvantages-of-decision-tree-algorithm-428ebd199d9a)**\n",
        "* Real-world application: whether to buy a new or used automobile based on budget, expected years of ownership, and estimated annual mileage [[ref]](https://medium.com/machine-learning-guy/using-decision-tree-method-for-car-selection-problem-5272675451f9)\n",
        "* Decision trees is a supervised learning algorithm used for both classification and regression problems\n",
        "* A decision tree builds upon iteratively asking questions to partition data. It can generate rules that help experts formalize their knowledge.\n",
        "* PROs: Decision tree models are intuitive and easy to explain. The dataset doesn't have to be normalized or scaled. \n",
        "* CONs: Training may take longer than other supervised learning algorithms. It is not suitable for regression or continuous values\n",
        "* Decision trees are a potential algorithm for this problem because a decision tree would split the data into different groups based on the features. The groups that we are seeking are annual income less than $50k and more than $50k.\n",
        "\n",
        "**3. [Support Vector Machines (SVM)](https://towardsdatascience.com/support-vector-machines-svm-c9ef22815589)**\n",
        "* [Real-world application](https://data-flair.training/blogs/applications-of-svm/): Face detection – classify parts of the image as a face and non-face and create a square boundary around the face.\n",
        "* Support Vector Machine are one of the most popular and talked about machine learning algorithms.\n",
        "* PROs: The hyperplane is affected by only the support vectors thus outliers have less impact. Effective when the number of features are more than training examples.\n",
        "* CONs: Does not perform well in case of overlapped classes. Selecting the appropriate kernel function can be tricky.\n",
        "* SVMs are a potential algorithm for this problem because we seek a boundary between two groups of people: People whose annual income less is than $50k and more than $50k from the census data"
      ]
    },
    {
      "cell_type": "markdown",
      "metadata": {
        "id": "CVdGKTBWUOmg",
        "colab_type": "text"
      },
      "source": [
        "### Implementation - Creating a Training and Predicting Pipeline\n",
        "To properly evaluate the performance of each model you've chosen, it's important that you create a training and predicting pipeline that allows you to quickly and effectively train models using various sizes of training data and perform predictions on the testing data. Your implementation here will be used in the following section.\n",
        "In the code block below, you will need to implement the following:\n",
        " - Import `fbeta_score` and `accuracy_score` from [`sklearn.metrics`](http://scikit-learn.org/stable/modules/classes.html#sklearn-metrics-metrics).\n",
        " - Fit the learner to the sampled training data and record the training time.\n",
        " - Perform predictions on the test data `X_test`, and also on the first 300 training points `X_train[:300]`.\n",
        "   - Record the total prediction time.\n",
        " - Calculate the accuracy score for both the training subset and testing set.\n",
        " - Calculate the F-score for both the training subset and testing set.\n",
        "   - Make sure that you set the `beta` parameter!"
      ]
    },
    {
      "cell_type": "code",
      "metadata": {
        "id": "l2P5qQZyUOmh",
        "colab_type": "code",
        "colab": {}
      },
      "source": [
        "# TODO: Import two metrics from sklearn - fbeta_score and accuracy_score\n",
        "from sklearn.metrics import accuracy_score\n",
        "from sklearn.metrics import fbeta_score\n",
        "\n",
        "def train_predict(learner, sample_size, X_train, y_train, X_test, y_test): \n",
        "    '''\n",
        "    inputs:\n",
        "       - learner: the learning algorithm to be trained and predicted on\n",
        "       - sample_size: the size of samples (number) to be drawn from training set\n",
        "       - X_train: features training set\n",
        "       - y_train: income training set\n",
        "       - X_test: features testing set\n",
        "       - y_test: income testing set\n",
        "    '''\n",
        "    \n",
        "    results = {}\n",
        "    \n",
        "    # TODO: Fit the learner to the training data using slicing with 'sample_size' using .fit(training_features[:], training_labels[:])\n",
        "    start = time() # Get start time\n",
        "    learner.fit(X_train[:sample_size],y_train[:sample_size])\n",
        "    end = time() # Get end time\n",
        "    \n",
        "    # TODO: Calculate the training time\n",
        "    results['train_time'] = end - start\n",
        "        \n",
        "    # TODO: Get the predictions on the test set(X_test),\n",
        "    #       then get predictions on the first 300 training samples(X_train) using .predict()\n",
        "    start = time() # Get start time\n",
        "    predictions_test = learner.predict(X_test)\n",
        "    predictions_train = learner.predict(X_train[:300])\n",
        "    end = time() # Get end time\n",
        "    \n",
        "    # TODO: Calculate the total prediction time\n",
        "    results['pred_time'] = end - start\n",
        "            \n",
        "    # TODO: Compute accuracy on the first 300 training samples which is y_train[:300]\n",
        "    results['acc_train'] = accuracy_score(y_train[:300],predictions_train)\n",
        "        \n",
        "    # TODO: Compute accuracy on test set using accuracy_score()\n",
        "    results['acc_test'] = accuracy_score(y_test,predictions_test)\n",
        "    \n",
        "    # TODO: Compute F-score on the the first 300 training samples using fbeta_score()\n",
        "    results['f_train'] = fbeta_score(y_train[:300],predictions_train, average='binary', beta=0.5)\n",
        "        \n",
        "    # TODO: Compute F-score on the test set which is y_test\n",
        "    results['f_test'] = fbeta_score(y_test,predictions_test, average='binary', beta=0.5)\n",
        "       \n",
        "    # Success\n",
        "    print(\"{} trained on {} samples.\".format(learner.__class__.__name__, sample_size))\n",
        "        \n",
        "    # Return the results\n",
        "    return results"
      ],
      "execution_count": 0,
      "outputs": []
    },
    {
      "cell_type": "markdown",
      "metadata": {
        "id": "QGsW_EpZUOmj",
        "colab_type": "text"
      },
      "source": [
        "### Implementation: Initial Model Evaluation\n",
        "In the code cell, you will need to implement the following:\n",
        "- Import the three supervised learning models you've discussed in the previous section.\n",
        "- Initialize the three models and store them in `'clf_A'`, `'clf_B'`, and `'clf_C'`.\n",
        "  - Use a `'random_state'` for each model you use, if provided.\n",
        "  - **Note:** Use the default settings for each model — you will tune one specific model in a later section.\n",
        "- Calculate the number of records equal to 1%, 10%, and 100% of the training data.\n",
        "  - Store those values in `'samples_1'`, `'samples_10'`, and `'samples_100'` respectively.\n",
        "\n",
        "**Note:** Depending on which algorithms you chose, the following implementation may take some time to run!"
      ]
    },
    {
      "cell_type": "code",
      "metadata": {
        "id": "sLG4ep37UOmj",
        "colab_type": "code",
        "colab": {
          "base_uri": "https://localhost:8080/",
          "height": 789
        },
        "outputId": "a8e6dd06-861d-44ac-abd0-cae13c9cfeee"
      },
      "source": [
        "# TODO: Import the three supervised learning models from sklearn\n",
        "from sklearn.naive_bayes import GaussianNB\n",
        "from sklearn.tree import DecisionTreeClassifier\n",
        "from sklearn.svm import SVC\n",
        "# TODO: Initialize the three models\n",
        "clf_A = GaussianNB()\n",
        "clf_B = DecisionTreeClassifier()\n",
        "clf_C = SVC()\n",
        "\n",
        "# TODO: Calculate the number of samples for 1%, 10%, and 100% of the training data\n",
        "# HINT: samples_100 is the entire training set i.e. len(y_train)\n",
        "# HINT: samples_10 is 10% of samples_100 (ensure to set the count of the values to be `int` and not `float`)\n",
        "# HINT: samples_1 is 1% of samples_100 (ensure to set the count of the values to be `int` and not `float`)\n",
        "samples_100 = len(X_train)\n",
        "samples_10 = int(0.1*samples_100)\n",
        "samples_1 = int(0.01*samples_100)\n",
        "\n",
        "# Collect results on the learners\n",
        "results = {}\n",
        "for clf in [clf_A, clf_B, clf_C]:\n",
        "    clf_name = clf.__class__.__name__\n",
        "    results[clf_name] = {}\n",
        "    for i, samples in enumerate([samples_1, samples_10, samples_100]):\n",
        "        results[clf_name][i] = \\\n",
        "        train_predict(clf, samples, X_train, y_train, X_test, y_test)\n",
        "# Run metrics visualization for the three supervised learning models chosen\n",
        "vs.evaluate(results, accuracy, fscore)\n",
        "print(accuracy)\n",
        "print(fscore)"
      ],
      "execution_count": 65,
      "outputs": [
        {
          "output_type": "stream",
          "text": [
            "GaussianNB trained on 361 samples.\n",
            "GaussianNB trained on 3617 samples.\n",
            "GaussianNB trained on 36177 samples.\n",
            "DecisionTreeClassifier trained on 361 samples.\n",
            "DecisionTreeClassifier trained on 3617 samples.\n",
            "DecisionTreeClassifier trained on 36177 samples.\n",
            "SVC trained on 361 samples.\n",
            "SVC trained on 3617 samples.\n",
            "SVC trained on 36177 samples.\n"
          ],
          "name": "stdout"
        },
        {
          "output_type": "stream",
          "text": [
            "/content/visuals.py:118: UserWarning: Tight layout not applied. tight_layout cannot make axes width small enough to accommodate all axes decorations\n",
            "  pl.tight_layout()\n"
          ],
          "name": "stderr"
        },
        {
          "output_type": "display_data",
          "data": {
            "image/png": "[encoded data removed]",
            "text/plain": [
              "<Figure size 792x504 with 6 Axes>"
            ]
          },
          "metadata": {
            "tags": [],
            "needs_background": "light"
          }
        },
        {
          "output_type": "stream",
          "text": [
            "0.2478439697492371\n",
            "0.29172913543228385\n"
          ],
          "name": "stdout"
        }
      ]
    },
    {
      "cell_type": "code",
      "metadata": {
        "id": "fEs8RlgoLsyW",
        "colab_type": "code",
        "colab": {
          "base_uri": "https://localhost:8080/",
          "height": 999
        },
        "outputId": "c012c00e-45cf-42eb-990d-00c1dc7607e1"
      },
      "source": [
        "from pprint import pprint as pp\n",
        "pp(results)"
      ],
      "execution_count": 66,
      "outputs": [
        {
          "output_type": "stream",
          "text": [
            "{'DecisionTreeClassifier': {0: {'acc_test': 0.7613045881702598,\n",
            "                                'acc_train': 1.0,\n",
            "                                'f_test': 0.5223152589220389,\n",
            "                                'f_train': 1.0,\n",
            "                                'pred_time': 0.006590604782104492,\n",
            "                                'train_time': 0.00499725341796875},\n",
            "                            1: {'acc_test': 0.8039800995024876,\n",
            "                                'acc_train': 0.9966666666666667,\n",
            "                                'f_test': 0.5989150406859743,\n",
            "                                'f_train': 0.997191011235955,\n",
            "                                'pred_time': 0.007434368133544922,\n",
            "                                'train_time': 0.035283803939819336},\n",
            "                            2: {'acc_test': 0.817910447761194,\n",
            "                                'acc_train': 0.97,\n",
            "                                'f_test': 0.6265594677016912,\n",
            "                                'f_train': 0.9638554216867471,\n",
            "                                'pred_time': 0.00835275650024414,\n",
            "                                'train_time': 0.43160390853881836}},\n",
            " 'GaussianNB': {0: {'acc_test': 0.3517965726920951,\n",
            "                    'acc_train': 0.4,\n",
            "                    'f_test': 0.3101343466682625,\n",
            "                    'f_train': 0.3333333333333333,\n",
            "                    'pred_time': 0.02401137351989746,\n",
            "                    'train_time': 0.004513263702392578},\n",
            "                1: {'acc_test': 0.3660585959093422,\n",
            "                    'acc_train': 0.38333333333333336,\n",
            "                    'f_test': 0.32025811848355396,\n",
            "                    'f_train': 0.3250915750915751,\n",
            "                    'pred_time': 0.01499629020690918,\n",
            "                    'train_time': 0.008370399475097656},\n",
            "                2: {'acc_test': 0.5976782752902156,\n",
            "                    'acc_train': 0.5933333333333334,\n",
            "                    'f_test': 0.4208989595756056,\n",
            "                    'f_train': 0.4125,\n",
            "                    'pred_time': 0.016034841537475586,\n",
            "                    'train_time': 0.09502577781677246}},\n",
            " 'SVC': {0: {'acc_test': 0.8180210060807076,\n",
            "             'acc_train': 0.8533333333333334,\n",
            "             'f_test': 0.6277580071174378,\n",
            "             'f_train': 0.732758620689655,\n",
            "             'pred_time': 0.3178865909576416,\n",
            "             'train_time': 0.015644311904907227},\n",
            "         1: {'acc_test': 0.8316196793808734,\n",
            "             'acc_train': 0.86,\n",
            "             'f_test': 0.662986635676932,\n",
            "             'f_train': 0.7352941176470589,\n",
            "             'pred_time': 2.381364345550537,\n",
            "             'train_time': 1.1402254104614258},\n",
            "         2: {'acc_test': 0.8423438363736871,\n",
            "             'acc_train': 0.8533333333333334,\n",
            "             'f_test': 0.685054319164645,\n",
            "             'f_train': 0.7169117647058826,\n",
            "             'pred_time': 21.885011434555054,\n",
            "             'train_time': 145.99685430526733}}}\n"
          ],
          "name": "stdout"
        }
      ]
    },
    {
      "cell_type": "code",
      "metadata": {
        "id": "T8wUCDvkNKFo",
        "colab_type": "code",
        "colab": {
          "base_uri": "https://localhost:8080/",
          "height": 72
        },
        "outputId": "3abe8471-271f-40b3-db41-3c69b57adaf8"
      },
      "source": [
        "print(clf_B.__class__.__name__)\n",
        "print(results[clf_B.__class__.__name__][2])\n",
        "print('f_test = {}, acc_test = {}'.format(results[clf_B.__class__.__name__][2]['f_test'],results[clf_B.__class__.__name__][2]['acc_test']))"
      ],
      "execution_count": 67,
      "outputs": [
        {
          "output_type": "stream",
          "text": [
            "DecisionTreeClassifier\n",
            "{'train_time': 0.43160390853881836, 'pred_time': 0.00835275650024414, 'acc_train': 0.97, 'acc_test': 0.817910447761194, 'f_train': 0.9638554216867471, 'f_test': 0.6265594677016912}\n",
            "f_test = 0.6265594677016912, acc_test = 0.817910447761194\n"
          ],
          "name": "stdout"
        }
      ]
    },
    {
      "cell_type": "markdown",
      "metadata": {
        "id": "AJfjMWqDUOml",
        "colab_type": "text"
      },
      "source": [
        "----\n",
        "## Improving Results\n",
        "In this final section, you will choose from the three supervised learning models the *best* model to use on the student data. You will then perform a grid search optimization for the model over the entire training set (`X_train` and `y_train`) by tuning at least one parameter to improve upon the untuned model's F-score. "
      ]
    },
    {
      "cell_type": "markdown",
      "metadata": {
        "id": "dHhxz7DhUOmo",
        "colab_type": "text"
      },
      "source": [
        "### Question 3 - Choosing the Best Model\n",
        "\n",
        "* Based on the evaluation you performed earlier, in one to two paragraphs, explain to *CharityML* which of the three models you believe to be most appropriate for the task of identifying individuals that make more than \\$50,000. \n",
        "\n",
        "** HINT: ** \n",
        "Look at the graph at the bottom left from the cell above(the visualization created by `vs.evaluate(results, accuracy, fscore)`) and check the F score for the testing set when 100% of the training set is used. Which model has the highest score? Your answer should include discussion of the:\n",
        "* metrics - F score on the testing when 100% of the training data is used, \n",
        "* prediction/training time\n",
        "* the algorithm's suitability for the data."
      ]
    },
    {
      "cell_type": "markdown",
      "metadata": {
        "id": "TlQvvJcfUOmp",
        "colab_type": "text"
      },
      "source": [
        "**Answer: ** \n",
        "\n",
        "Of the 3 algorithms, Decision Trees performed the best. It had the highest accuracy and took less time to train than SVM. Since the data was all scalar values, Decision Trees seems to be appropriate.\n",
        "\n",
        "* training time (seconds) = 0.33686208724975586\n",
        "* prediction time (seconds) = 0.007338047027587891\n",
        "* training accuracy (%) = 0.97,\n",
        "* testing accuracy (%) = 0.8202321724709785\n",
        "* F score training (%) = 0.9638554216867471\n",
        "* F score testing (%) = 0.6314421023307643"
      ]
    },
    {
      "cell_type": "markdown",
      "metadata": {
        "id": "h7TkY4tXUOmp",
        "colab_type": "text"
      },
      "source": [
        "### Question 4 - Describing the Model in Layman's Terms\n",
        "\n",
        "* In one to two paragraphs, explain to *CharityML*, in layman's terms, how the final model chosen is supposed to work. Be sure that you are describing the major qualities of the model, such as how the model is trained and how the model makes a prediction. Avoid using advanced mathematical jargon, such as describing equations.\n",
        "\n",
        "** HINT: **\n",
        "\n",
        "When explaining your model, if using external resources please include all citations."
      ]
    },
    {
      "cell_type": "markdown",
      "metadata": {
        "id": "ujrBDPc0UOmp",
        "colab_type": "text"
      },
      "source": [
        "**Answer: ** \n",
        "\n",
        "Conceptual description of Decision Tree: \"A Decision tree is a flowchart like tree structure, where each internal node denotes a test on an attribute, each branch represents an outcome of the test, and each leaf node (terminal node) holds a class label.\" [[ref1](https://www.geeksforgeeks.org/decision-tree/)]\n",
        "\n",
        "In our scenario each branch represents a rule that the algorithm discovers that allows us to split or segment the data. As we walk down the tree, we get closer to the group of potential donors.\n",
        "\n",
        "* Decision trees have 3 main parts: \n",
        "\n",
        "    1.   A root node (the starting point)\n",
        "    2.   Leaf nodes\n",
        "    3.   Branches\n",
        "\n",
        "We compare the values of the root attribute with the person's characteristics. On the basis of comparison, we follow the branch corresponding to that value and jump to the next node.\n",
        "\n",
        "How the model is trained:\n",
        "\n",
        "1.   Determine the “best feature” in the dataset to split the data on\n",
        "2.   Split the data into subsets that contain the possible values for this best feature. This splitting basically defines a node on the tree i.e each node is a splitting point based on a certain feature from our data.\n",
        "Recursively generate new tree nodes by using the subset of data created from step \n",
        "3.   We keep splitting until we reach a point where we have optimised, by some measure, maximum accuracy while minimising the number of splits / nodes. [[ref](https://towardsdatascience.com/a-guide-to-decision-trees-for-machine-learning-and-data-science-fe2607241956)]\n",
        "\n",
        "How the model makes a prediction:\n",
        "\n",
        "* we start from the root of the tree. We compare the values of the root attribute with the record’s attribute. On the basis of comparison, we follow the branch corresponding to that value and jump to the next node. When we get to the bottom, that is our prediction. [[ref](https://towardsdatascience.com/decision-tree-algorithm-explained-83beb6e78ef4)]"
      ]
    },
    {
      "cell_type": "code",
      "metadata": {
        "id": "oFnjVNVcM5QW",
        "colab_type": "code",
        "colab": {
          "base_uri": "https://localhost:8080/",
          "height": 523
        },
        "outputId": "3e82ec4b-f8af-4222-cab2-4cc1b9af2fb7"
      },
      "source": [
        "from IPython.display import Image\n",
        "Image(url='https://www.geeksforgeeks.org/wp-content/uploads/Decision_Tree-2.png')"
      ],
      "execution_count": 68,
      "outputs": [
        {
          "output_type": "execute_result",
          "data": {
            "text/html": [
              "<img src=\"https://www.geeksforgeeks.org/wp-content/uploads/Decision_Tree-2.png\"/>"
            ],
            "text/plain": [
              "<IPython.core.display.Image object>"
            ]
          },
          "metadata": {
            "tags": []
          },
          "execution_count": 68
        }
      ]
    },
    {
      "cell_type": "code",
      "metadata": {
        "id": "NN4U3owzNqx5",
        "colab_type": "code",
        "colab": {
          "base_uri": "https://localhost:8080/",
          "height": 1000
        },
        "outputId": "69484dc6-a906-40b7-dd38-c2f782e80154"
      },
      "source": [
        "from sklearn.tree.export import export_text\n",
        "\n",
        "tree_rules = export_text(clf_B, feature_names=encoded)\n",
        "\n",
        "print(tree_rules)"
      ],
      "execution_count": 69,
      "outputs": [
        {
          "output_type": "stream",
          "text": [
            "|--- marital-status_ Married-civ-spouse <= 0.50\n",
            "|   |--- capital-gain <= 0.77\n",
            "|   |   |--- education-num <= 0.77\n",
            "|   |   |   |--- capital-loss <= 0.92\n",
            "|   |   |   |   |--- hours-per-week <= 0.40\n",
            "|   |   |   |   |   |--- age <= 0.23\n",
            "|   |   |   |   |   |   |--- marital-status_ Married-AF-spouse <= 0.50\n",
            "|   |   |   |   |   |   |   |--- age <= 0.16\n",
            "|   |   |   |   |   |   |   |   |--- education-num <= 0.63\n",
            "|   |   |   |   |   |   |   |   |   |--- occupation_ Protective-serv <= 0.50\n",
            "|   |   |   |   |   |   |   |   |   |   |--- occupation_ Prof-specialty <= 0.50\n",
            "|   |   |   |   |   |   |   |   |   |   |   |--- truncated branch of depth 12\n",
            "|   |   |   |   |   |   |   |   |   |   |--- occupation_ Prof-specialty >  0.50\n",
            "|   |   |   |   |   |   |   |   |   |   |   |--- truncated branch of depth 4\n",
            "|   |   |   |   |   |   |   |   |   |--- occupation_ Protective-serv >  0.50\n",
            "|   |   |   |   |   |   |   |   |   |   |--- workclass_ Local-gov <= 0.50\n",
            "|   |   |   |   |   |   |   |   |   |   |   |--- class: 0\n",
            "|   |   |   |   |   |   |   |   |   |   |--- workclass_ Local-gov >  0.50\n",
            "|   |   |   |   |   |   |   |   |   |   |   |--- truncated branch of depth 3\n",
            "|   |   |   |   |   |   |   |   |--- education-num >  0.63\n",
            "|   |   |   |   |   |   |   |   |   |--- age <= 0.13\n",
            "|   |   |   |   |   |   |   |   |   |   |--- occupation_ Adm-clerical <= 0.50\n",
            "|   |   |   |   |   |   |   |   |   |   |   |--- class: 0\n",
            "|   |   |   |   |   |   |   |   |   |   |--- occupation_ Adm-clerical >  0.50\n",
            "|   |   |   |   |   |   |   |   |   |   |   |--- truncated branch of depth 4\n",
            "|   |   |   |   |   |   |   |   |   |--- age >  0.13\n",
            "|   |   |   |   |   |   |   |   |   |   |--- relationship_ Unmarried <= 0.50\n",
            "|   |   |   |   |   |   |   |   |   |   |   |--- truncated branch of depth 4\n",
            "|   |   |   |   |   |   |   |   |   |   |--- relationship_ Unmarried >  0.50\n",
            "|   |   |   |   |   |   |   |   |   |   |   |--- truncated branch of depth 3\n",
            "|   |   |   |   |   |   |   |--- age >  0.16\n",
            "|   |   |   |   |   |   |   |   |--- capital-gain <= 0.73\n",
            "|   |   |   |   |   |   |   |   |   |--- marital-status_ Widowed <= 0.50\n",
            "|   |   |   |   |   |   |   |   |   |   |--- workclass_ Self-emp-inc <= 0.50\n",
            "|   |   |   |   |   |   |   |   |   |   |   |--- truncated branch of depth 11\n",
            "|   |   |   |   |   |   |   |   |   |   |--- workclass_ Self-emp-inc >  0.50\n",
            "|   |   |   |   |   |   |   |   |   |   |   |--- truncated branch of depth 3\n",
            "|   |   |   |   |   |   |   |   |   |--- marital-status_ Widowed >  0.50\n",
            "|   |   |   |   |   |   |   |   |   |   |--- education_level_ Assoc-acdm <= 0.50\n",
            "|   |   |   |   |   |   |   |   |   |   |   |--- class: 0\n",
            "|   |   |   |   |   |   |   |   |   |   |--- education_level_ Assoc-acdm >  0.50\n",
            "|   |   |   |   |   |   |   |   |   |   |   |--- class: 1\n",
            "|   |   |   |   |   |   |   |   |--- capital-gain >  0.73\n",
            "|   |   |   |   |   |   |   |   |   |--- capital-gain <= 0.74\n",
            "|   |   |   |   |   |   |   |   |   |   |--- class: 1\n",
            "|   |   |   |   |   |   |   |   |   |--- capital-gain >  0.74\n",
            "|   |   |   |   |   |   |   |   |   |   |--- class: 0\n",
            "|   |   |   |   |   |   |--- marital-status_ Married-AF-spouse >  0.50\n",
            "|   |   |   |   |   |   |   |--- occupation_ Exec-managerial <= 0.50\n",
            "|   |   |   |   |   |   |   |   |--- age <= 0.14\n",
            "|   |   |   |   |   |   |   |   |   |--- age <= 0.05\n",
            "|   |   |   |   |   |   |   |   |   |   |--- class: 0\n",
            "|   |   |   |   |   |   |   |   |   |--- age >  0.05\n",
            "|   |   |   |   |   |   |   |   |   |   |--- class: 1\n",
            "|   |   |   |   |   |   |   |   |--- age >  0.14\n",
            "|   |   |   |   |   |   |   |   |   |--- class: 0\n",
            "|   |   |   |   |   |   |   |--- occupation_ Exec-managerial >  0.50\n",
            "|   |   |   |   |   |   |   |   |--- class: 1\n",
            "|   |   |   |   |   |--- age >  0.23\n",
            "|   |   |   |   |   |   |--- occupation_ Prof-specialty <= 0.50\n",
            "|   |   |   |   |   |   |   |--- capital-gain <= 0.73\n",
            "|   |   |   |   |   |   |   |   |--- occupation_ Exec-managerial <= 0.50\n",
            "|   |   |   |   |   |   |   |   |   |--- occupation_ Protective-serv <= 0.50\n",
            "|   |   |   |   |   |   |   |   |   |   |--- relationship_ Wife <= 0.50\n",
            "|   |   |   |   |   |   |   |   |   |   |   |--- truncated branch of depth 22\n",
            "|   |   |   |   |   |   |   |   |   |   |--- relationship_ Wife >  0.50\n",
            "|   |   |   |   |   |   |   |   |   |   |   |--- truncated branch of depth 3\n",
            "|   |   |   |   |   |   |   |   |   |--- occupation_ Protective-serv >  0.50\n",
            "|   |   |   |   |   |   |   |   |   |   |--- workclass_ Private <= 0.50\n",
            "|   |   |   |   |   |   |   |   |   |   |   |--- truncated branch of depth 7\n",
            "|   |   |   |   |   |   |   |   |   |   |--- workclass_ Private >  0.50\n",
            "|   |   |   |   |   |   |   |   |   |   |   |--- class: 0\n",
            "|   |   |   |   |   |   |   |   |--- occupation_ Exec-managerial >  0.50\n",
            "|   |   |   |   |   |   |   |   |   |--- native-country_ Ireland <= 0.50\n",
            "|   |   |   |   |   |   |   |   |   |   |--- workclass_ Private <= 0.50\n",
            "|   |   |   |   |   |   |   |   |   |   |   |--- truncated branch of depth 7\n",
            "|   |   |   |   |   |   |   |   |   |   |--- workclass_ Private >  0.50\n",
            "|   |   |   |   |   |   |   |   |   |   |   |--- truncated branch of depth 16\n",
            "|   |   |   |   |   |   |   |   |   |--- native-country_ Ireland >  0.50\n",
            "|   |   |   |   |   |   |   |   |   |   |--- class: 1\n",
            "|   |   |   |   |   |   |   |--- capital-gain >  0.73\n",
            "|   |   |   |   |   |   |   |   |--- capital-gain <= 0.74\n",
            "|   |   |   |   |   |   |   |   |   |--- class: 1\n",
            "|   |   |   |   |   |   |   |   |--- capital-gain >  0.74\n",
            "|   |   |   |   |   |   |   |   |   |--- education_level_ 7th-8th <= 0.50\n",
            "|   |   |   |   |   |   |   |   |   |   |--- occupation_ Tech-support <= 0.50\n",
            "|   |   |   |   |   |   |   |   |   |   |   |--- class: 0\n",
            "|   |   |   |   |   |   |   |   |   |   |--- occupation_ Tech-support >  0.50\n",
            "|   |   |   |   |   |   |   |   |   |   |   |--- truncated branch of depth 2\n",
            "|   |   |   |   |   |   |   |   |   |--- education_level_ 7th-8th >  0.50\n",
            "|   |   |   |   |   |   |   |   |   |   |--- age <= 0.66\n",
            "|   |   |   |   |   |   |   |   |   |   |   |--- class: 0\n",
            "|   |   |   |   |   |   |   |   |   |   |--- age >  0.66\n",
            "|   |   |   |   |   |   |   |   |   |   |   |--- class: 1\n",
            "|   |   |   |   |   |   |--- occupation_ Prof-specialty >  0.50\n",
            "|   |   |   |   |   |   |   |--- race_ Asian-Pac-Islander <= 0.50\n",
            "|   |   |   |   |   |   |   |   |--- hours-per-week <= 0.36\n",
            "|   |   |   |   |   |   |   |   |   |--- capital-loss <= 0.44\n",
            "|   |   |   |   |   |   |   |   |   |   |--- hours-per-week <= 0.13\n",
            "|   |   |   |   |   |   |   |   |   |   |   |--- truncated branch of depth 2\n",
            "|   |   |   |   |   |   |   |   |   |   |--- hours-per-week >  0.13\n",
            "|   |   |   |   |   |   |   |   |   |   |   |--- class: 0\n",
            "|   |   |   |   |   |   |   |   |   |--- capital-loss >  0.44\n",
            "|   |   |   |   |   |   |   |   |   |   |--- class: 1\n",
            "|   |   |   |   |   |   |   |   |--- hours-per-week >  0.36\n",
            "|   |   |   |   |   |   |   |   |   |--- education-num <= 0.43\n",
            "|   |   |   |   |   |   |   |   |   |   |--- class: 1\n",
            "|   |   |   |   |   |   |   |   |   |--- education-num >  0.43\n",
            "|   |   |   |   |   |   |   |   |   |   |--- age <= 0.57\n",
            "|   |   |   |   |   |   |   |   |   |   |   |--- truncated branch of depth 22\n",
            "|   |   |   |   |   |   |   |   |   |   |--- age >  0.57\n",
            "|   |   |   |   |   |   |   |   |   |   |   |--- truncated branch of depth 4\n",
            "|   |   |   |   |   |   |   |--- race_ Asian-Pac-Islander >  0.50\n",
            "|   |   |   |   |   |   |   |   |--- native-country_ United-States <= 0.50\n",
            "|   |   |   |   |   |   |   |   |   |--- class: 1\n",
            "|   |   |   |   |   |   |   |   |--- native-country_ United-States >  0.50\n",
            "|   |   |   |   |   |   |   |   |   |--- relationship_ Not-in-family <= 0.50\n",
            "|   |   |   |   |   |   |   |   |   |   |--- class: 0\n",
            "|   |   |   |   |   |   |   |   |   |--- relationship_ Not-in-family >  0.50\n",
            "|   |   |   |   |   |   |   |   |   |   |--- class: 1\n",
            "|   |   |   |   |--- hours-per-week >  0.40\n",
            "|   |   |   |   |   |--- age <= 0.16\n",
            "|   |   |   |   |   |   |--- occupation_ Exec-managerial <= 0.50\n",
            "|   |   |   |   |   |   |   |--- native-country_ Portugal <= 0.50\n",
            "|   |   |   |   |   |   |   |   |--- native-country_ Canada <= 0.50\n",
            "|   |   |   |   |   |   |   |   |   |--- race_ Asian-Pac-Islander <= 0.50\n",
            "|   |   |   |   |   |   |   |   |   |   |--- workclass_ Local-gov <= 0.50\n",
            "|   |   |   |   |   |   |   |   |   |   |   |--- truncated branch of depth 9\n",
            "|   |   |   |   |   |   |   |   |   |   |--- workclass_ Local-gov >  0.50\n",
            "|   |   |   |   |   |   |   |   |   |   |   |--- truncated branch of depth 4\n",
            "|   |   |   |   |   |   |   |   |   |--- race_ Asian-Pac-Islander >  0.50\n",
            "|   |   |   |   |   |   |   |   |   |   |--- occupation_ Machine-op-inspct <= 0.50\n",
            "|   |   |   |   |   |   |   |   |   |   |   |--- truncated branch of depth 2\n",
            "|   |   |   |   |   |   |   |   |   |   |--- occupation_ Machine-op-inspct >  0.50\n",
            "|   |   |   |   |   |   |   |   |   |   |   |--- class: 1\n",
            "|   |   |   |   |   |   |   |   |--- native-country_ Canada >  0.50\n",
            "|   |   |   |   |   |   |   |   |   |--- education_level_ Assoc-voc <= 0.50\n",
            "|   |   |   |   |   |   |   |   |   |   |--- class: 0\n",
            "|   |   |   |   |   |   |   |   |   |--- education_level_ Assoc-voc >  0.50\n",
            "|   |   |   |   |   |   |   |   |   |   |--- class: 1\n",
            "|   |   |   |   |   |   |   |--- native-country_ Portugal >  0.50\n",
            "|   |   |   |   |   |   |   |   |--- sex_ Male <= 0.50\n",
            "|   |   |   |   |   |   |   |   |   |--- class: 1\n",
            "|   |   |   |   |   |   |   |   |--- sex_ Male >  0.50\n",
            "|   |   |   |   |   |   |   |   |   |--- class: 0\n",
            "|   |   |   |   |   |   |--- occupation_ Exec-managerial >  0.50\n",
            "|   |   |   |   |   |   |   |--- hours-per-week <= 0.59\n",
            "|   |   |   |   |   |   |   |   |--- marital-status_ Divorced <= 0.50\n",
            "|   |   |   |   |   |   |   |   |   |--- class: 0\n",
            "|   |   |   |   |   |   |   |   |--- marital-status_ Divorced >  0.50\n",
            "|   |   |   |   |   |   |   |   |   |--- age <= 0.11\n",
            "|   |   |   |   |   |   |   |   |   |   |--- hours-per-week <= 0.47\n",
            "|   |   |   |   |   |   |   |   |   |   |   |--- class: 1\n",
            "|   |   |   |   |   |   |   |   |   |   |--- hours-per-week >  0.47\n",
            "|   |   |   |   |   |   |   |   |   |   |   |--- class: 0\n",
            "|   |   |   |   |   |   |   |   |   |--- age >  0.11\n",
            "|   |   |   |   |   |   |   |   |   |   |--- class: 0\n",
            "|   |   |   |   |   |   |   |--- hours-per-week >  0.59\n",
            "|   |   |   |   |   |   |   |   |--- workclass_ Private <= 0.50\n",
            "|   |   |   |   |   |   |   |   |   |--- sex_ Female <= 0.50\n",
            "|   |   |   |   |   |   |   |   |   |   |--- class: 1\n",
            "|   |   |   |   |   |   |   |   |   |--- sex_ Female >  0.50\n",
            "|   |   |   |   |   |   |   |   |   |   |--- class: 0\n",
            "|   |   |   |   |   |   |   |   |--- workclass_ Private >  0.50\n",
            "|   |   |   |   |   |   |   |   |   |--- education-num <= 0.63\n",
            "|   |   |   |   |   |   |   |   |   |   |--- class: 0\n",
            "|   |   |   |   |   |   |   |   |   |--- education-num >  0.63\n",
            "|   |   |   |   |   |   |   |   |   |   |--- relationship_ Own-child <= 0.50\n",
            "|   |   |   |   |   |   |   |   |   |   |   |--- class: 1\n",
            "|   |   |   |   |   |   |   |   |   |   |--- relationship_ Own-child >  0.50\n",
            "|   |   |   |   |   |   |   |   |   |   |   |--- class: 0\n",
            "|   |   |   |   |   |--- age >  0.16\n",
            "|   |   |   |   |   |   |--- capital-gain <= 0.73\n",
            "|   |   |   |   |   |   |   |--- education-num <= 0.57\n",
            "|   |   |   |   |   |   |   |   |--- relationship_ Wife <= 0.50\n",
            "|   |   |   |   |   |   |   |   |   |--- sex_ Female <= 0.50\n",
            "|   |   |   |   |   |   |   |   |   |   |--- age <= 0.47\n",
            "|   |   |   |   |   |   |   |   |   |   |   |--- truncated branch of depth 17\n",
            "|   |   |   |   |   |   |   |   |   |   |--- age >  0.47\n",
            "|   |   |   |   |   |   |   |   |   |   |   |--- truncated branch of depth 13\n",
            "|   |   |   |   |   |   |   |   |   |--- sex_ Female >  0.50\n",
            "|   |   |   |   |   |   |   |   |   |   |--- native-country_ Greece <= 0.50\n",
            "|   |   |   |   |   |   |   |   |   |   |   |--- truncated branch of depth 9\n",
            "|   |   |   |   |   |   |   |   |   |   |--- native-country_ Greece >  0.50\n",
            "|   |   |   |   |   |   |   |   |   |   |   |--- class: 1\n",
            "|   |   |   |   |   |   |   |   |--- relationship_ Wife >  0.50\n",
            "|   |   |   |   |   |   |   |   |   |--- class: 1\n",
            "|   |   |   |   |   |   |   |--- education-num >  0.57\n",
            "|   |   |   |   |   |   |   |   |--- hours-per-week <= 0.86\n",
            "|   |   |   |   |   |   |   |   |   |--- relationship_ Husband <= 0.50\n",
            "|   |   |   |   |   |   |   |   |   |   |--- age <= 0.40\n",
            "|   |   |   |   |   |   |   |   |   |   |   |--- truncated branch of depth 18\n",
            "|   |   |   |   |   |   |   |   |   |   |--- age >  0.40\n",
            "|   |   |   |   |   |   |   |   |   |   |   |--- truncated branch of depth 15\n",
            "|   |   |   |   |   |   |   |   |   |--- relationship_ Husband >  0.50\n",
            "|   |   |   |   |   |   |   |   |   |   |--- class: 1\n",
            "|   |   |   |   |   |   |   |   |--- hours-per-week >  0.86\n",
            "|   |   |   |   |   |   |   |   |   |--- race_ Black <= 0.50\n",
            "|   |   |   |   |   |   |   |   |   |   |--- hours-per-week <= 0.95\n",
            "|   |   |   |   |   |   |   |   |   |   |   |--- class: 1\n",
            "|   |   |   |   |   |   |   |   |   |   |--- hours-per-week >  0.95\n",
            "|   |   |   |   |   |   |   |   |   |   |   |--- truncated branch of depth 2\n",
            "|   |   |   |   |   |   |   |   |   |--- race_ Black >  0.50\n",
            "|   |   |   |   |   |   |   |   |   |   |--- class: 0\n",
            "|   |   |   |   |   |   |--- capital-gain >  0.73\n",
            "|   |   |   |   |   |   |   |--- capital-gain <= 0.74\n",
            "|   |   |   |   |   |   |   |   |--- age <= 0.51\n",
            "|   |   |   |   |   |   |   |   |   |--- class: 1\n",
            "|   |   |   |   |   |   |   |   |--- age >  0.51\n",
            "|   |   |   |   |   |   |   |   |   |--- class: 0\n",
            "|   |   |   |   |   |   |   |--- capital-gain >  0.74\n",
            "|   |   |   |   |   |   |   |   |--- age <= 0.79\n",
            "|   |   |   |   |   |   |   |   |   |--- class: 0\n",
            "|   |   |   |   |   |   |   |   |--- age >  0.79\n",
            "|   |   |   |   |   |   |   |   |   |--- class: 1\n",
            "|   |   |   |--- capital-loss >  0.92\n",
            "|   |   |   |   |--- capital-loss <= 0.96\n",
            "|   |   |   |   |   |--- capital-loss <= 0.93\n",
            "|   |   |   |   |   |   |--- capital-loss <= 0.92\n",
            "|   |   |   |   |   |   |   |--- age <= 0.28\n",
            "|   |   |   |   |   |   |   |   |--- capital-loss <= 0.92\n",
            "|   |   |   |   |   |   |   |   |   |--- class: 1\n",
            "|   |   |   |   |   |   |   |   |--- capital-loss >  0.92\n",
            "|   |   |   |   |   |   |   |   |   |--- education-num <= 0.57\n",
            "|   |   |   |   |   |   |   |   |   |   |--- class: 0\n",
            "|   |   |   |   |   |   |   |   |   |--- education-num >  0.57\n",
            "|   |   |   |   |   |   |   |   |   |   |--- occupation_ Sales <= 0.50\n",
            "|   |   |   |   |   |   |   |   |   |   |   |--- class: 1\n",
            "|   |   |   |   |   |   |   |   |   |   |--- occupation_ Sales >  0.50\n",
            "|   |   |   |   |   |   |   |   |   |   |   |--- class: 0\n",
            "|   |   |   |   |   |   |   |--- age >  0.28\n",
            "|   |   |   |   |   |   |   |   |--- marital-status_ Widowed <= 0.50\n",
            "|   |   |   |   |   |   |   |   |   |--- hours-per-week <= 0.58\n",
            "|   |   |   |   |   |   |   |   |   |   |--- occupation_ Other-service <= 0.50\n",
            "|   |   |   |   |   |   |   |   |   |   |   |--- truncated branch of depth 3\n",
            "|   |   |   |   |   |   |   |   |   |   |--- occupation_ Other-service >  0.50\n",
            "|   |   |   |   |   |   |   |   |   |   |   |--- class: 0\n",
            "|   |   |   |   |   |   |   |   |   |--- hours-per-week >  0.58\n",
            "|   |   |   |   |   |   |   |   |   |   |--- class: 0\n",
            "|   |   |   |   |   |   |   |   |--- marital-status_ Widowed >  0.50\n",
            "|   |   |   |   |   |   |   |   |   |--- class: 1\n",
            "|   |   |   |   |   |   |--- capital-loss >  0.92\n",
            "|   |   |   |   |   |   |   |--- class: 0\n",
            "|   |   |   |   |   |--- capital-loss >  0.93\n",
            "|   |   |   |   |   |   |--- age <= 0.60\n",
            "|   |   |   |   |   |   |   |--- class: 1\n",
            "|   |   |   |   |   |   |--- age >  0.60\n",
            "|   |   |   |   |   |   |   |--- class: 0\n",
            "|   |   |   |   |--- capital-loss >  0.96\n",
            "|   |   |   |   |   |--- class: 0\n",
            "|   |   |--- education-num >  0.77\n",
            "|   |   |   |--- age <= 0.20\n",
            "|   |   |   |   |--- capital-loss <= 0.92\n",
            "|   |   |   |   |   |--- hours-per-week <= 0.49\n",
            "|   |   |   |   |   |   |--- marital-status_ Married-AF-spouse <= 0.50\n",
            "|   |   |   |   |   |   |   |--- capital-gain <= 0.73\n",
            "|   |   |   |   |   |   |   |   |--- capital-loss <= 0.88\n",
            "|   |   |   |   |   |   |   |   |   |--- workclass_ Self-emp-inc <= 0.50\n",
            "|   |   |   |   |   |   |   |   |   |   |--- native-country_ Philippines <= 0.50\n",
            "|   |   |   |   |   |   |   |   |   |   |   |--- truncated branch of depth 22\n",
            "|   |   |   |   |   |   |   |   |   |   |--- native-country_ Philippines >  0.50\n",
            "|   |   |   |   |   |   |   |   |   |   |   |--- truncated branch of depth 4\n",
            "|   |   |   |   |   |   |   |   |   |--- workclass_ Self-emp-inc >  0.50\n",
            "|   |   |   |   |   |   |   |   |   |   |--- hours-per-week <= 0.44\n",
            "|   |   |   |   |   |   |   |   |   |   |   |--- truncated branch of depth 4\n",
            "|   |   |   |   |   |   |   |   |   |   |--- hours-per-week >  0.44\n",
            "|   |   |   |   |   |   |   |   |   |   |   |--- truncated branch of depth 2\n",
            "|   |   |   |   |   |   |   |   |--- capital-loss >  0.88\n",
            "|   |   |   |   |   |   |   |   |   |--- capital-loss <= 0.88\n",
            "|   |   |   |   |   |   |   |   |   |   |--- class: 1\n",
            "|   |   |   |   |   |   |   |   |   |--- capital-loss >  0.88\n",
            "|   |   |   |   |   |   |   |   |   |   |--- class: 0\n",
            "|   |   |   |   |   |   |   |--- capital-gain >  0.73\n",
            "|   |   |   |   |   |   |   |   |--- capital-gain <= 0.74\n",
            "|   |   |   |   |   |   |   |   |   |--- class: 1\n",
            "|   |   |   |   |   |   |   |   |--- capital-gain >  0.74\n",
            "|   |   |   |   |   |   |   |   |   |--- class: 0\n",
            "|   |   |   |   |   |   |--- marital-status_ Married-AF-spouse >  0.50\n",
            "|   |   |   |   |   |   |   |--- occupation_ Exec-managerial <= 0.50\n",
            "|   |   |   |   |   |   |   |   |--- class: 0\n",
            "|   |   |   |   |   |   |   |--- occupation_ Exec-managerial >  0.50\n",
            "|   |   |   |   |   |   |   |   |--- class: 1\n",
            "|   |   |   |   |   |--- hours-per-week >  0.49\n",
            "|   |   |   |   |   |   |--- age <= 0.14\n",
            "|   |   |   |   |   |   |   |--- hours-per-week <= 0.58\n",
            "|   |   |   |   |   |   |   |   |--- workclass_ Local-gov <= 0.50\n",
            "|   |   |   |   |   |   |   |   |   |--- age <= 0.13\n",
            "|   |   |   |   |   |   |   |   |   |   |--- class: 0\n",
            "|   |   |   |   |   |   |   |   |   |--- age >  0.13\n",
            "|   |   |   |   |   |   |   |   |   |   |--- sex_ Male <= 0.50\n",
            "|   |   |   |   |   |   |   |   |   |   |   |--- truncated branch of depth 5\n",
            "|   |   |   |   |   |   |   |   |   |   |--- sex_ Male >  0.50\n",
            "|   |   |   |   |   |   |   |   |   |   |   |--- class: 0\n",
            "|   |   |   |   |   |   |   |   |--- workclass_ Local-gov >  0.50\n",
            "|   |   |   |   |   |   |   |   |   |--- age <= 0.12\n",
            "|   |   |   |   |   |   |   |   |   |   |--- relationship_ Not-in-family <= 0.50\n",
            "|   |   |   |   |   |   |   |   |   |   |   |--- class: 0\n",
            "|   |   |   |   |   |   |   |   |   |   |--- relationship_ Not-in-family >  0.50\n",
            "|   |   |   |   |   |   |   |   |   |   |   |--- truncated branch of depth 2\n",
            "|   |   |   |   |   |   |   |   |   |--- age >  0.12\n",
            "|   |   |   |   |   |   |   |   |   |   |--- class: 0\n",
            "|   |   |   |   |   |   |   |--- hours-per-week >  0.58\n",
            "|   |   |   |   |   |   |   |   |--- relationship_ Other-relative <= 0.50\n",
            "|   |   |   |   |   |   |   |   |   |--- occupation_ Tech-support <= 0.50\n",
            "|   |   |   |   |   |   |   |   |   |   |--- capital-gain <= 0.37\n",
            "|   |   |   |   |   |   |   |   |   |   |   |--- truncated branch of depth 8\n",
            "|   |   |   |   |   |   |   |   |   |   |--- capital-gain >  0.37\n",
            "|   |   |   |   |   |   |   |   |   |   |   |--- truncated branch of depth 2\n",
            "|   |   |   |   |   |   |   |   |   |--- occupation_ Tech-support >  0.50\n",
            "|   |   |   |   |   |   |   |   |   |   |--- workclass_ Private <= 0.50\n",
            "|   |   |   |   |   |   |   |   |   |   |   |--- class: 0\n",
            "|   |   |   |   |   |   |   |   |   |   |--- workclass_ Private >  0.50\n",
            "|   |   |   |   |   |   |   |   |   |   |   |--- class: 1\n",
            "|   |   |   |   |   |   |   |   |--- relationship_ Other-relative >  0.50\n",
            "|   |   |   |   |   |   |   |   |   |--- class: 1\n",
            "|   |   |   |   |   |   |--- age >  0.14\n",
            "|   |   |   |   |   |   |   |--- native-country_ Philippines <= 0.50\n",
            "|   |   |   |   |   |   |   |   |--- workclass_ Federal-gov <= 0.50\n",
            "|   |   |   |   |   |   |   |   |   |--- education_level_ Doctorate <= 0.50\n",
            "|   |   |   |   |   |   |   |   |   |   |--- workclass_ Local-gov <= 0.50\n",
            "|   |   |   |   |   |   |   |   |   |   |   |--- truncated branch of depth 17\n",
            "|   |   |   |   |   |   |   |   |   |   |--- workclass_ Local-gov >  0.50\n",
            "|   |   |   |   |   |   |   |   |   |   |   |--- class: 0\n",
            "|   |   |   |   |   |   |   |   |   |--- education_level_ Doctorate >  0.50\n",
            "|   |   |   |   |   |   |   |   |   |   |--- workclass_ Private <= 0.50\n",
            "|   |   |   |   |   |   |   |   |   |   |   |--- class: 1\n",
            "|   |   |   |   |   |   |   |   |   |   |--- workclass_ Private >  0.50\n",
            "|   |   |   |   |   |   |   |   |   |   |   |--- truncated branch of depth 2\n",
            "|   |   |   |   |   |   |   |   |--- workclass_ Federal-gov >  0.50\n",
            "|   |   |   |   |   |   |   |   |   |--- age <= 0.17\n",
            "|   |   |   |   |   |   |   |   |   |   |--- occupation_ Exec-managerial <= 0.50\n",
            "|   |   |   |   |   |   |   |   |   |   |   |--- truncated branch of depth 2\n",
            "|   |   |   |   |   |   |   |   |   |   |--- occupation_ Exec-managerial >  0.50\n",
            "|   |   |   |   |   |   |   |   |   |   |   |--- class: 1\n",
            "|   |   |   |   |   |   |   |   |   |--- age >  0.17\n",
            "|   |   |   |   |   |   |   |   |   |   |--- class: 1\n",
            "|   |   |   |   |   |   |   |--- native-country_ Philippines >  0.50\n",
            "|   |   |   |   |   |   |   |   |--- class: 1\n",
            "|   |   |   |   |--- capital-loss >  0.92\n",
            "|   |   |   |   |   |--- sex_ Male <= 0.50\n",
            "|   |   |   |   |   |   |--- occupation_ Sales <= 0.50\n",
            "|   |   |   |   |   |   |   |--- education-num <= 0.83\n",
            "|   |   |   |   |   |   |   |   |--- hours-per-week <= 0.37\n",
            "|   |   |   |   |   |   |   |   |   |--- class: 0\n",
            "|   |   |   |   |   |   |   |   |--- hours-per-week >  0.37\n",
            "|   |   |   |   |   |   |   |   |   |--- class: 1\n",
            "|   |   |   |   |   |   |   |--- education-num >  0.83\n",
            "|   |   |   |   |   |   |   |   |--- class: 0\n",
            "|   |   |   |   |   |   |--- occupation_ Sales >  0.50\n",
            "|   |   |   |   |   |   |   |--- class: 0\n",
            "|   |   |   |   |   |--- sex_ Male >  0.50\n",
            "|   |   |   |   |   |   |--- class: 1\n",
            "|   |   |   |--- age >  0.20\n",
            "|   |   |   |   |--- hours-per-week <= 0.42\n",
            "|   |   |   |   |   |--- capital-loss <= 0.93\n",
            "|   |   |   |   |   |   |--- education-num <= 0.90\n",
            "|   |   |   |   |   |   |   |--- capital-gain <= 0.73\n",
            "|   |   |   |   |   |   |   |   |--- hours-per-week <= 0.37\n",
            "|   |   |   |   |   |   |   |   |   |--- marital-status_ Married-spouse-absent <= 0.50\n",
            "|   |   |   |   |   |   |   |   |   |   |--- capital-loss <= 0.92\n",
            "|   |   |   |   |   |   |   |   |   |   |   |--- truncated branch of depth 11\n",
            "|   |   |   |   |   |   |   |   |   |   |--- capital-loss >  0.92\n",
            "|   |   |   |   |   |   |   |   |   |   |   |--- truncated branch of depth 2\n",
            "|   |   |   |   |   |   |   |   |   |--- marital-status_ Married-spouse-absent >  0.50\n",
            "|   |   |   |   |   |   |   |   |   |   |--- race_ Asian-Pac-Islander <= 0.50\n",
            "|   |   |   |   |   |   |   |   |   |   |   |--- truncated branch of depth 4\n",
            "|   |   |   |   |   |   |   |   |   |   |--- race_ Asian-Pac-Islander >  0.50\n",
            "|   |   |   |   |   |   |   |   |   |   |   |--- class: 1\n",
            "|   |   |   |   |   |   |   |   |--- hours-per-week >  0.37\n",
            "|   |   |   |   |   |   |   |   |   |--- age <= 0.40\n",
            "|   |   |   |   |   |   |   |   |   |   |--- relationship_ Not-in-family <= 0.50\n",
            "|   |   |   |   |   |   |   |   |   |   |   |--- truncated branch of depth 16\n",
            "|   |   |   |   |   |   |   |   |   |   |--- relationship_ Not-in-family >  0.50\n",
            "|   |   |   |   |   |   |   |   |   |   |   |--- truncated branch of depth 17\n",
            "|   |   |   |   |   |   |   |   |   |--- age >  0.40\n",
            "|   |   |   |   |   |   |   |   |   |   |--- native-country_ Jamaica <= 0.50\n",
            "|   |   |   |   |   |   |   |   |   |   |   |--- truncated branch of depth 24\n",
            "|   |   |   |   |   |   |   |   |   |   |--- native-country_ Jamaica >  0.50\n",
            "|   |   |   |   |   |   |   |   |   |   |   |--- class: 1\n",
            "|   |   |   |   |   |   |   |--- capital-gain >  0.73\n",
            "|   |   |   |   |   |   |   |   |--- capital-gain <= 0.74\n",
            "|   |   |   |   |   |   |   |   |   |--- age <= 0.22\n",
            "|   |   |   |   |   |   |   |   |   |   |--- class: 0\n",
            "|   |   |   |   |   |   |   |   |   |--- age >  0.22\n",
            "|   |   |   |   |   |   |   |   |   |   |--- occupation_ Exec-managerial <= 0.50\n",
            "|   |   |   |   |   |   |   |   |   |   |   |--- class: 1\n",
            "|   |   |   |   |   |   |   |   |   |   |--- occupation_ Exec-managerial >  0.50\n",
            "|   |   |   |   |   |   |   |   |   |   |   |--- truncated branch of depth 2\n",
            "|   |   |   |   |   |   |   |   |--- capital-gain >  0.74\n",
            "|   |   |   |   |   |   |   |   |   |--- class: 0\n",
            "|   |   |   |   |   |   |--- education-num >  0.90\n",
            "|   |   |   |   |   |   |   |--- sex_ Male <= 0.50\n",
            "|   |   |   |   |   |   |   |   |--- workclass_ Federal-gov <= 0.50\n",
            "|   |   |   |   |   |   |   |   |   |--- occupation_ Exec-managerial <= 0.50\n",
            "|   |   |   |   |   |   |   |   |   |   |--- capital-gain <= 0.72\n",
            "|   |   |   |   |   |   |   |   |   |   |   |--- truncated branch of depth 6\n",
            "|   |   |   |   |   |   |   |   |   |   |--- capital-gain >  0.72\n",
            "|   |   |   |   |   |   |   |   |   |   |   |--- class: 1\n",
            "|   |   |   |   |   |   |   |   |   |--- occupation_ Exec-managerial >  0.50\n",
            "|   |   |   |   |   |   |   |   |   |   |--- age <= 0.49\n",
            "|   |   |   |   |   |   |   |   |   |   |   |--- truncated branch of depth 2\n",
            "|   |   |   |   |   |   |   |   |   |   |--- age >  0.49\n",
            "|   |   |   |   |   |   |   |   |   |   |   |--- class: 1\n",
            "|   |   |   |   |   |   |   |   |--- workclass_ Federal-gov >  0.50\n",
            "|   |   |   |   |   |   |   |   |   |--- class: 1\n",
            "|   |   |   |   |   |   |   |--- sex_ Male >  0.50\n",
            "|   |   |   |   |   |   |   |   |--- hours-per-week <= 0.39\n",
            "|   |   |   |   |   |   |   |   |   |--- age <= 0.77\n",
            "|   |   |   |   |   |   |   |   |   |   |--- age <= 0.31\n",
            "|   |   |   |   |   |   |   |   |   |   |   |--- class: 1\n",
            "|   |   |   |   |   |   |   |   |   |   |--- age >  0.31\n",
            "|   |   |   |   |   |   |   |   |   |   |   |--- truncated branch of depth 3\n",
            "|   |   |   |   |   |   |   |   |   |--- age >  0.77\n",
            "|   |   |   |   |   |   |   |   |   |   |--- class: 1\n",
            "|   |   |   |   |   |   |   |   |--- hours-per-week >  0.39\n",
            "|   |   |   |   |   |   |   |   |   |--- native-country_ England <= 0.50\n",
            "|   |   |   |   |   |   |   |   |   |   |--- workclass_ State-gov <= 0.50\n",
            "|   |   |   |   |   |   |   |   |   |   |   |--- truncated branch of depth 7\n",
            "|   |   |   |   |   |   |   |   |   |   |--- workclass_ State-gov >  0.50\n",
            "|   |   |   |   |   |   |   |   |   |   |   |--- class: 0\n",
            "|   |   |   |   |   |   |   |   |   |--- native-country_ England >  0.50\n",
            "|   |   |   |   |   |   |   |   |   |   |--- class: 0\n",
            "|   |   |   |   |   |--- capital-loss >  0.93\n",
            "|   |   |   |   |   |   |--- class: 1\n",
            "|   |   |   |   |--- hours-per-week >  0.42\n",
            "|   |   |   |   |   |--- education-num <= 0.90\n",
            "|   |   |   |   |   |   |--- occupation_ Exec-managerial <= 0.50\n",
            "|   |   |   |   |   |   |   |--- capital-loss <= 0.93\n",
            "|   |   |   |   |   |   |   |   |--- occupation_ Protective-serv <= 0.50\n",
            "|   |   |   |   |   |   |   |   |   |--- occupation_ Sales <= 0.50\n",
            "|   |   |   |   |   |   |   |   |   |   |--- age <= 0.51\n",
            "|   |   |   |   |   |   |   |   |   |   |   |--- truncated branch of depth 20\n",
            "|   |   |   |   |   |   |   |   |   |   |--- age >  0.51\n",
            "|   |   |   |   |   |   |   |   |   |   |   |--- truncated branch of depth 6\n",
            "|   |   |   |   |   |   |   |   |   |--- occupation_ Sales >  0.50\n",
            "|   |   |   |   |   |   |   |   |   |   |--- capital-loss <= 0.88\n",
            "|   |   |   |   |   |   |   |   |   |   |   |--- truncated branch of depth 21\n",
            "|   |   |   |   |   |   |   |   |   |   |--- capital-loss >  0.88\n",
            "|   |   |   |   |   |   |   |   |   |   |   |--- class: 0\n",
            "|   |   |   |   |   |   |   |   |--- occupation_ Protective-serv >  0.50\n",
            "|   |   |   |   |   |   |   |   |   |--- race_ White <= 0.50\n",
            "|   |   |   |   |   |   |   |   |   |   |--- class: 1\n",
            "|   |   |   |   |   |   |   |   |   |--- race_ White >  0.50\n",
            "|   |   |   |   |   |   |   |   |   |   |--- age <= 0.27\n",
            "|   |   |   |   |   |   |   |   |   |   |   |--- class: 0\n",
            "|   |   |   |   |   |   |   |   |   |   |--- age >  0.27\n",
            "|   |   |   |   |   |   |   |   |   |   |   |--- truncated branch of depth 3\n",
            "|   |   |   |   |   |   |   |--- capital-loss >  0.93\n",
            "|   |   |   |   |   |   |   |   |--- class: 1\n",
            "|   |   |   |   |   |   |--- occupation_ Exec-managerial >  0.50\n",
            "|   |   |   |   |   |   |   |--- capital-loss <= 0.91\n",
            "|   |   |   |   |   |   |   |   |--- age <= 0.34\n",
            "|   |   |   |   |   |   |   |   |   |--- education-num <= 0.83\n",
            "|   |   |   |   |   |   |   |   |   |   |--- hours-per-week <= 0.45\n",
            "|   |   |   |   |   |   |   |   |   |   |   |--- truncated branch of depth 3\n",
            "|   |   |   |   |   |   |   |   |   |   |--- hours-per-week >  0.45\n",
            "|   |   |   |   |   |   |   |   |   |   |   |--- truncated branch of depth 12\n",
            "|   |   |   |   |   |   |   |   |   |--- education-num >  0.83\n",
            "|   |   |   |   |   |   |   |   |   |   |--- race_ White <= 0.50\n",
            "|   |   |   |   |   |   |   |   |   |   |   |--- class: 1\n",
            "|   |   |   |   |   |   |   |   |   |   |--- race_ White >  0.50\n",
            "|   |   |   |   |   |   |   |   |   |   |   |--- truncated branch of depth 9\n",
            "|   |   |   |   |   |   |   |   |--- age >  0.34\n",
            "|   |   |   |   |   |   |   |   |   |--- workclass_ Self-emp-not-inc <= 0.50\n",
            "|   |   |   |   |   |   |   |   |   |   |--- hours-per-week <= 0.56\n",
            "|   |   |   |   |   |   |   |   |   |   |   |--- truncated branch of depth 13\n",
            "|   |   |   |   |   |   |   |   |   |   |--- hours-per-week >  0.56\n",
            "|   |   |   |   |   |   |   |   |   |   |   |--- truncated branch of depth 5\n",
            "|   |   |   |   |   |   |   |   |   |--- workclass_ Self-emp-not-inc >  0.50\n",
            "|   |   |   |   |   |   |   |   |   |   |--- education-num <= 0.83\n",
            "|   |   |   |   |   |   |   |   |   |   |   |--- class: 0\n",
            "|   |   |   |   |   |   |   |   |   |   |--- education-num >  0.83\n",
            "|   |   |   |   |   |   |   |   |   |   |   |--- truncated branch of depth 3\n",
            "|   |   |   |   |   |   |   |--- capital-loss >  0.91\n",
            "|   |   |   |   |   |   |   |   |--- class: 1\n",
            "|   |   |   |   |   |--- education-num >  0.90\n",
            "|   |   |   |   |   |   |--- age <= 0.21\n",
            "|   |   |   |   |   |   |   |--- class: 0\n",
            "|   |   |   |   |   |   |--- age >  0.21\n",
            "|   |   |   |   |   |   |   |--- capital-loss <= 0.44\n",
            "|   |   |   |   |   |   |   |   |--- capital-gain <= 0.30\n",
            "|   |   |   |   |   |   |   |   |   |--- relationship_ Other-relative <= 0.50\n",
            "|   |   |   |   |   |   |   |   |   |   |--- education_level_ Doctorate <= 0.50\n",
            "|   |   |   |   |   |   |   |   |   |   |   |--- truncated branch of depth 6\n",
            "|   |   |   |   |   |   |   |   |   |   |--- education_level_ Doctorate >  0.50\n",
            "|   |   |   |   |   |   |   |   |   |   |   |--- truncated branch of depth 11\n",
            "|   |   |   |   |   |   |   |   |   |--- relationship_ Other-relative >  0.50\n",
            "|   |   |   |   |   |   |   |   |   |   |--- class: 0\n",
            "|   |   |   |   |   |   |   |   |--- capital-gain >  0.30\n",
            "|   |   |   |   |   |   |   |   |   |--- age <= 0.35\n",
            "|   |   |   |   |   |   |   |   |   |   |--- class: 1\n",
            "|   |   |   |   |   |   |   |   |   |--- age >  0.35\n",
            "|   |   |   |   |   |   |   |   |   |   |--- class: 0\n",
            "|   |   |   |   |   |   |   |--- capital-loss >  0.44\n",
            "|   |   |   |   |   |   |   |   |--- class: 1\n",
            "|   |--- capital-gain >  0.77\n",
            "|   |   |--- capital-gain <= 0.78\n",
            "|   |   |   |--- capital-gain <= 0.77\n",
            "|   |   |   |   |--- class: 1\n",
            "|   |   |   |--- capital-gain >  0.77\n",
            "|   |   |   |   |--- hours-per-week <= 0.47\n",
            "|   |   |   |   |   |--- class: 0\n",
            "|   |   |   |   |--- hours-per-week >  0.47\n",
            "|   |   |   |   |   |--- class: 1\n",
            "|   |   |--- capital-gain >  0.78\n",
            "|   |   |   |--- age <= 0.04\n",
            "|   |   |   |   |--- education-num <= 0.57\n",
            "|   |   |   |   |   |--- class: 0\n",
            "|   |   |   |   |--- education-num >  0.57\n",
            "|   |   |   |   |   |--- class: 1\n",
            "|   |   |   |--- age >  0.04\n",
            "|   |   |   |   |--- workclass_ Self-emp-not-inc <= 0.50\n",
            "|   |   |   |   |   |--- class: 1\n",
            "|   |   |   |   |--- workclass_ Self-emp-not-inc >  0.50\n",
            "|   |   |   |   |   |--- age <= 0.51\n",
            "|   |   |   |   |   |   |--- class: 1\n",
            "|   |   |   |   |   |--- age >  0.51\n",
            "|   |   |   |   |   |   |--- age <= 0.53\n",
            "|   |   |   |   |   |   |   |--- relationship_ Not-in-family <= 0.50\n",
            "|   |   |   |   |   |   |   |   |--- class: 1\n",
            "|   |   |   |   |   |   |   |--- relationship_ Not-in-family >  0.50\n",
            "|   |   |   |   |   |   |   |   |--- class: 0\n",
            "|   |   |   |   |   |   |--- age >  0.53\n",
            "|   |   |   |   |   |   |   |--- class: 1\n",
            "|--- marital-status_ Married-civ-spouse >  0.50\n",
            "|   |--- education-num <= 0.77\n",
            "|   |   |--- capital-gain <= 0.74\n",
            "|   |   |   |--- education-num <= 0.50\n",
            "|   |   |   |   |--- hours-per-week <= 0.40\n",
            "|   |   |   |   |   |--- age <= 0.28\n",
            "|   |   |   |   |   |   |--- native-country_ Laos <= 0.50\n",
            "|   |   |   |   |   |   |   |--- native-country_ Trinadad&Tobago <= 0.50\n",
            "|   |   |   |   |   |   |   |   |--- native-country_ Philippines <= 0.50\n",
            "|   |   |   |   |   |   |   |   |   |--- occupation_ Tech-support <= 0.50\n",
            "|   |   |   |   |   |   |   |   |   |   |--- workclass_ Self-emp-inc <= 0.50\n",
            "|   |   |   |   |   |   |   |   |   |   |   |--- truncated branch of depth 12\n",
            "|   |   |   |   |   |   |   |   |   |   |--- workclass_ Self-emp-inc >  0.50\n",
            "|   |   |   |   |   |   |   |   |   |   |   |--- truncated branch of depth 2\n",
            "|   |   |   |   |   |   |   |   |   |--- occupation_ Tech-support >  0.50\n",
            "|   |   |   |   |   |   |   |   |   |   |--- education_level_ 10th <= 0.50\n",
            "|   |   |   |   |   |   |   |   |   |   |   |--- class: 0\n",
            "|   |   |   |   |   |   |   |   |   |   |--- education_level_ 10th >  0.50\n",
            "|   |   |   |   |   |   |   |   |   |   |   |--- class: 1\n",
            "|   |   |   |   |   |   |   |   |--- native-country_ Philippines >  0.50\n",
            "|   |   |   |   |   |   |   |   |   |--- occupation_ Craft-repair <= 0.50\n",
            "|   |   |   |   |   |   |   |   |   |   |--- class: 0\n",
            "|   |   |   |   |   |   |   |   |   |--- occupation_ Craft-repair >  0.50\n",
            "|   |   |   |   |   |   |   |   |   |   |--- class: 1\n",
            "|   |   |   |   |   |   |   |--- native-country_ Trinadad&Tobago >  0.50\n",
            "|   |   |   |   |   |   |   |   |--- class: 1\n",
            "|   |   |   |   |   |   |--- native-country_ Laos >  0.50\n",
            "|   |   |   |   |   |   |   |--- class: 1\n",
            "|   |   |   |   |   |--- age >  0.28\n",
            "|   |   |   |   |   |   |--- education-num <= 0.30\n",
            "|   |   |   |   |   |   |   |--- native-country_ Yugoslavia <= 0.50\n",
            "|   |   |   |   |   |   |   |   |--- occupation_ Sales <= 0.50\n",
            "|   |   |   |   |   |   |   |   |   |--- workclass_ Federal-gov <= 0.50\n",
            "|   |   |   |   |   |   |   |   |   |   |--- workclass_ Self-emp-inc <= 0.50\n",
            "|   |   |   |   |   |   |   |   |   |   |   |--- truncated branch of depth 16\n",
            "|   |   |   |   |   |   |   |   |   |   |--- workclass_ Self-emp-inc >  0.50\n",
            "|   |   |   |   |   |   |   |   |   |   |   |--- truncated branch of depth 2\n",
            "|   |   |   |   |   |   |   |   |   |--- workclass_ Federal-gov >  0.50\n",
            "|   |   |   |   |   |   |   |   |   |   |--- native-country_ United-States <= 0.50\n",
            "|   |   |   |   |   |   |   |   |   |   |   |--- class: 0\n",
            "|   |   |   |   |   |   |   |   |   |   |--- native-country_ United-States >  0.50\n",
            "|   |   |   |   |   |   |   |   |   |   |   |--- class: 1\n",
            "|   |   |   |   |   |   |   |   |--- occupation_ Sales >  0.50\n",
            "|   |   |   |   |   |   |   |   |   |--- age <= 0.71\n",
            "|   |   |   |   |   |   |   |   |   |   |--- workclass_ Private <= 0.50\n",
            "|   |   |   |   |   |   |   |   |   |   |   |--- truncated branch of depth 5\n",
            "|   |   |   |   |   |   |   |   |   |   |--- workclass_ Private >  0.50\n",
            "|   |   |   |   |   |   |   |   |   |   |   |--- class: 0\n",
            "|   |   |   |   |   |   |   |   |   |--- age >  0.71\n",
            "|   |   |   |   |   |   |   |   |   |   |--- age <= 0.81\n",
            "|   |   |   |   |   |   |   |   |   |   |   |--- class: 1\n",
            "|   |   |   |   |   |   |   |   |   |   |--- age >  0.81\n",
            "|   |   |   |   |   |   |   |   |   |   |   |--- class: 0\n",
            "|   |   |   |   |   |   |   |--- native-country_ Yugoslavia >  0.50\n",
            "|   |   |   |   |   |   |   |   |--- class: 1\n",
            "|   |   |   |   |   |   |--- education-num >  0.30\n",
            "|   |   |   |   |   |   |   |--- capital-loss <= 0.90\n",
            "|   |   |   |   |   |   |   |   |--- occupation_ Prof-specialty <= 0.50\n",
            "|   |   |   |   |   |   |   |   |   |--- age <= 0.29\n",
            "|   |   |   |   |   |   |   |   |   |   |--- education_level_ 11th <= 0.50\n",
            "|   |   |   |   |   |   |   |   |   |   |   |--- truncated branch of depth 2\n",
            "|   |   |   |   |   |   |   |   |   |   |--- education_level_ 11th >  0.50\n",
            "|   |   |   |   |   |   |   |   |   |   |   |--- class: 0\n",
            "|   |   |   |   |   |   |   |   |   |--- age >  0.29\n",
            "|   |   |   |   |   |   |   |   |   |   |--- race_ Asian-Pac-Islander <= 0.50\n",
            "|   |   |   |   |   |   |   |   |   |   |   |--- truncated branch of depth 23\n",
            "|   |   |   |   |   |   |   |   |   |   |--- race_ Asian-Pac-Islander >  0.50\n",
            "|   |   |   |   |   |   |   |   |   |   |   |--- truncated branch of depth 2\n",
            "|   |   |   |   |   |   |   |   |--- occupation_ Prof-specialty >  0.50\n",
            "|   |   |   |   |   |   |   |   |   |--- education-num <= 0.40\n",
            "|   |   |   |   |   |   |   |   |   |   |--- workclass_ Self-emp-not-inc <= 0.50\n",
            "|   |   |   |   |   |   |   |   |   |   |   |--- class: 0\n",
            "|   |   |   |   |   |   |   |   |   |   |--- workclass_ Self-emp-not-inc >  0.50\n",
            "|   |   |   |   |   |   |   |   |   |   |   |--- class: 1\n",
            "|   |   |   |   |   |   |   |   |   |--- education-num >  0.40\n",
            "|   |   |   |   |   |   |   |   |   |   |--- class: 1\n",
            "|   |   |   |   |   |   |   |--- capital-loss >  0.90\n",
            "|   |   |   |   |   |   |   |   |--- capital-loss <= 0.91\n",
            "|   |   |   |   |   |   |   |   |   |--- class: 1\n",
            "|   |   |   |   |   |   |   |   |--- capital-loss >  0.91\n",
            "|   |   |   |   |   |   |   |   |   |--- class: 0\n",
            "|   |   |   |   |--- hours-per-week >  0.40\n",
            "|   |   |   |   |   |--- occupation_ Exec-managerial <= 0.50\n",
            "|   |   |   |   |   |   |--- occupation_ Other-service <= 0.50\n",
            "|   |   |   |   |   |   |   |--- hours-per-week <= 0.99\n",
            "|   |   |   |   |   |   |   |   |--- age <= 0.25\n",
            "|   |   |   |   |   |   |   |   |   |--- native-country_ Portugal <= 0.50\n",
            "|   |   |   |   |   |   |   |   |   |   |--- workclass_ Self-emp-inc <= 0.50\n",
            "|   |   |   |   |   |   |   |   |   |   |   |--- truncated branch of depth 10\n",
            "|   |   |   |   |   |   |   |   |   |   |--- workclass_ Self-emp-inc >  0.50\n",
            "|   |   |   |   |   |   |   |   |   |   |   |--- truncated branch of depth 2\n",
            "|   |   |   |   |   |   |   |   |   |--- native-country_ Portugal >  0.50\n",
            "|   |   |   |   |   |   |   |   |   |   |--- class: 1\n",
            "|   |   |   |   |   |   |   |   |--- age >  0.25\n",
            "|   |   |   |   |   |   |   |   |   |--- relationship_ Own-child <= 0.50\n",
            "|   |   |   |   |   |   |   |   |   |   |--- age <= 0.64\n",
            "|   |   |   |   |   |   |   |   |   |   |   |--- truncated branch of depth 24\n",
            "|   |   |   |   |   |   |   |   |   |   |--- age >  0.64\n",
            "|   |   |   |   |   |   |   |   |   |   |   |--- truncated branch of depth 2\n",
            "|   |   |   |   |   |   |   |   |   |--- relationship_ Own-child >  0.50\n",
            "|   |   |   |   |   |   |   |   |   |   |--- class: 1\n",
            "|   |   |   |   |   |   |   |--- hours-per-week >  0.99\n",
            "|   |   |   |   |   |   |   |   |--- occupation_ Transport-moving <= 0.50\n",
            "|   |   |   |   |   |   |   |   |   |--- education_level_ 10th <= 0.50\n",
            "|   |   |   |   |   |   |   |   |   |   |--- class: 0\n",
            "|   |   |   |   |   |   |   |   |   |--- education_level_ 10th >  0.50\n",
            "|   |   |   |   |   |   |   |   |   |   |--- class: 1\n",
            "|   |   |   |   |   |   |   |   |--- occupation_ Transport-moving >  0.50\n",
            "|   |   |   |   |   |   |   |   |   |--- class: 1\n",
            "|   |   |   |   |   |   |--- occupation_ Other-service >  0.50\n",
            "|   |   |   |   |   |   |   |--- class: 0\n",
            "|   |   |   |   |   |--- occupation_ Exec-managerial >  0.50\n",
            "|   |   |   |   |   |   |--- age <= 0.54\n",
            "|   |   |   |   |   |   |   |--- capital-loss <= 0.45\n",
            "|   |   |   |   |   |   |   |   |--- education-num <= 0.43\n",
            "|   |   |   |   |   |   |   |   |   |--- hours-per-week <= 0.58\n",
            "|   |   |   |   |   |   |   |   |   |   |--- age <= 0.51\n",
            "|   |   |   |   |   |   |   |   |   |   |   |--- truncated branch of depth 7\n",
            "|   |   |   |   |   |   |   |   |   |   |--- age >  0.51\n",
            "|   |   |   |   |   |   |   |   |   |   |   |--- class: 0\n",
            "|   |   |   |   |   |   |   |   |   |--- hours-per-week >  0.58\n",
            "|   |   |   |   |   |   |   |   |   |   |--- education_level_ 7th-8th <= 0.50\n",
            "|   |   |   |   |   |   |   |   |   |   |   |--- class: 0\n",
            "|   |   |   |   |   |   |   |   |   |   |--- education_level_ 7th-8th >  0.50\n",
            "|   |   |   |   |   |   |   |   |   |   |   |--- truncated branch of depth 3\n",
            "|   |   |   |   |   |   |   |   |--- education-num >  0.43\n",
            "|   |   |   |   |   |   |   |   |   |--- age <= 0.45\n",
            "|   |   |   |   |   |   |   |   |   |   |--- hours-per-week <= 0.53\n",
            "|   |   |   |   |   |   |   |   |   |   |   |--- class: 0\n",
            "|   |   |   |   |   |   |   |   |   |   |--- hours-per-week >  0.53\n",
            "|   |   |   |   |   |   |   |   |   |   |   |--- class: 1\n",
            "|   |   |   |   |   |   |   |   |   |--- age >  0.45\n",
            "|   |   |   |   |   |   |   |   |   |   |--- class: 1\n",
            "|   |   |   |   |   |   |   |--- capital-loss >  0.45\n",
            "|   |   |   |   |   |   |   |   |--- class: 1\n",
            "|   |   |   |   |   |   |--- age >  0.54\n",
            "|   |   |   |   |   |   |   |--- education-num <= 0.43\n",
            "|   |   |   |   |   |   |   |   |--- class: 1\n",
            "|   |   |   |   |   |   |   |--- education-num >  0.43\n",
            "|   |   |   |   |   |   |   |   |--- class: 0\n",
            "|   |   |   |--- education-num >  0.50\n",
            "|   |   |   |   |--- capital-loss <= 0.89\n",
            "|   |   |   |   |   |--- age <= 0.25\n",
            "|   |   |   |   |   |   |--- age <= 0.14\n",
            "|   |   |   |   |   |   |   |--- occupation_ Prof-specialty <= 0.50\n",
            "|   |   |   |   |   |   |   |   |--- age <= 0.10\n",
            "|   |   |   |   |   |   |   |   |   |--- hours-per-week <= 0.45\n",
            "|   |   |   |   |   |   |   |   |   |   |--- capital-gain <= 0.72\n",
            "|   |   |   |   |   |   |   |   |   |   |   |--- truncated branch of depth 10\n",
            "|   |   |   |   |   |   |   |   |   |   |--- capital-gain >  0.72\n",
            "|   |   |   |   |   |   |   |   |   |   |   |--- truncated branch of depth 2\n",
            "|   |   |   |   |   |   |   |   |   |--- hours-per-week >  0.45\n",
            "|   |   |   |   |   |   |   |   |   |   |--- workclass_ Local-gov <= 0.50\n",
            "|   |   |   |   |   |   |   |   |   |   |   |--- truncated branch of depth 8\n",
            "|   |   |   |   |   |   |   |   |   |   |--- workclass_ Local-gov >  0.50\n",
            "|   |   |   |   |   |   |   |   |   |   |   |--- class: 1\n",
            "|   |   |   |   |   |   |   |   |--- age >  0.10\n",
            "|   |   |   |   |   |   |   |   |   |--- workclass_ Local-gov <= 0.50\n",
            "|   |   |   |   |   |   |   |   |   |   |--- occupation_ Machine-op-inspct <= 0.50\n",
            "|   |   |   |   |   |   |   |   |   |   |   |--- truncated branch of depth 36\n",
            "|   |   |   |   |   |   |   |   |   |   |--- occupation_ Machine-op-inspct >  0.50\n",
            "|   |   |   |   |   |   |   |   |   |   |   |--- truncated branch of depth 7\n",
            "|   |   |   |   |   |   |   |   |   |--- workclass_ Local-gov >  0.50\n",
            "|   |   |   |   |   |   |   |   |   |   |--- hours-per-week <= 0.42\n",
            "|   |   |   |   |   |   |   |   |   |   |   |--- truncated branch of depth 3\n",
            "|   |   |   |   |   |   |   |   |   |   |--- hours-per-week >  0.42\n",
            "|   |   |   |   |   |   |   |   |   |   |   |--- truncated branch of depth 2\n",
            "|   |   |   |   |   |   |   |--- occupation_ Prof-specialty >  0.50\n",
            "|   |   |   |   |   |   |   |   |--- age <= 0.13\n",
            "|   |   |   |   |   |   |   |   |   |--- education-num <= 0.63\n",
            "|   |   |   |   |   |   |   |   |   |   |--- native-country_ Mexico <= 0.50\n",
            "|   |   |   |   |   |   |   |   |   |   |   |--- truncated branch of depth 4\n",
            "|   |   |   |   |   |   |   |   |   |   |--- native-country_ Mexico >  0.50\n",
            "|   |   |   |   |   |   |   |   |   |   |   |--- class: 1\n",
            "|   |   |   |   |   |   |   |   |   |--- education-num >  0.63\n",
            "|   |   |   |   |   |   |   |   |   |   |--- age <= 0.08\n",
            "|   |   |   |   |   |   |   |   |   |   |   |--- class: 0\n",
            "|   |   |   |   |   |   |   |   |   |   |--- age >  0.08\n",
            "|   |   |   |   |   |   |   |   |   |   |   |--- truncated branch of depth 2\n",
            "|   |   |   |   |   |   |   |   |--- age >  0.13\n",
            "|   |   |   |   |   |   |   |   |   |--- hours-per-week <= 0.55\n",
            "|   |   |   |   |   |   |   |   |   |   |--- class: 1\n",
            "|   |   |   |   |   |   |   |   |   |--- hours-per-week >  0.55\n",
            "|   |   |   |   |   |   |   |   |   |   |--- class: 0\n",
            "|   |   |   |   |   |   |--- age >  0.14\n",
            "|   |   |   |   |   |   |   |--- education_level_ HS-grad <= 0.50\n",
            "|   |   |   |   |   |   |   |   |--- occupation_ Exec-managerial <= 0.50\n",
            "|   |   |   |   |   |   |   |   |   |--- occupation_ Prof-specialty <= 0.50\n",
            "|   |   |   |   |   |   |   |   |   |   |--- hours-per-week <= 0.39\n",
            "|   |   |   |   |   |   |   |   |   |   |   |--- truncated branch of depth 9\n",
            "|   |   |   |   |   |   |   |   |   |   |--- hours-per-week >  0.39\n",
            "|   |   |   |   |   |   |   |   |   |   |   |--- truncated branch of depth 40\n",
            "|   |   |   |   |   |   |   |   |   |--- occupation_ Prof-specialty >  0.50\n",
            "|   |   |   |   |   |   |   |   |   |   |--- relationship_ Husband <= 0.50\n",
            "|   |   |   |   |   |   |   |   |   |   |   |--- truncated branch of depth 7\n",
            "|   |   |   |   |   |   |   |   |   |   |--- relationship_ Husband >  0.50\n",
            "|   |   |   |   |   |   |   |   |   |   |   |--- truncated branch of depth 12\n",
            "|   |   |   |   |   |   |   |   |--- occupation_ Exec-managerial >  0.50\n",
            "|   |   |   |   |   |   |   |   |   |--- relationship_ Own-child <= 0.50\n",
            "|   |   |   |   |   |   |   |   |   |   |--- hours-per-week <= 0.37\n",
            "|   |   |   |   |   |   |   |   |   |   |   |--- truncated branch of depth 3\n",
            "|   |   |   |   |   |   |   |   |   |   |--- hours-per-week >  0.37\n",
            "|   |   |   |   |   |   |   |   |   |   |   |--- truncated branch of depth 17\n",
            "|   |   |   |   |   |   |   |   |   |--- relationship_ Own-child >  0.50\n",
            "|   |   |   |   |   |   |   |   |   |   |--- class: 0\n",
            "|   |   |   |   |   |   |   |--- education_level_ HS-grad >  0.50\n",
            "|   |   |   |   |   |   |   |   |--- hours-per-week <= 0.48\n",
            "|   |   |   |   |   |   |   |   |   |--- occupation_ Exec-managerial <= 0.50\n",
            "|   |   |   |   |   |   |   |   |   |   |--- race_ Black <= 0.50\n",
            "|   |   |   |   |   |   |   |   |   |   |   |--- truncated branch of depth 30\n",
            "|   |   |   |   |   |   |   |   |   |   |--- race_ Black >  0.50\n",
            "|   |   |   |   |   |   |   |   |   |   |   |--- truncated branch of depth 5\n",
            "|   |   |   |   |   |   |   |   |   |--- occupation_ Exec-managerial >  0.50\n",
            "|   |   |   |   |   |   |   |   |   |   |--- capital-gain <= 0.35\n",
            "|   |   |   |   |   |   |   |   |   |   |   |--- truncated branch of depth 12\n",
            "|   |   |   |   |   |   |   |   |   |   |--- capital-gain >  0.35\n",
            "|   |   |   |   |   |   |   |   |   |   |   |--- class: 1\n",
            "|   |   |   |   |   |   |   |   |--- hours-per-week >  0.48\n",
            "|   |   |   |   |   |   |   |   |   |--- workclass_ Local-gov <= 0.50\n",
            "|   |   |   |   |   |   |   |   |   |   |--- occupation_ Other-service <= 0.50\n",
            "|   |   |   |   |   |   |   |   |   |   |   |--- truncated branch of depth 21\n",
            "|   |   |   |   |   |   |   |   |   |   |--- occupation_ Other-service >  0.50\n",
            "|   |   |   |   |   |   |   |   |   |   |   |--- class: 0\n",
            "|   |   |   |   |   |   |   |   |   |--- workclass_ Local-gov >  0.50\n",
            "|   |   |   |   |   |   |   |   |   |   |--- hours-per-week <= 0.71\n",
            "|   |   |   |   |   |   |   |   |   |   |   |--- truncated branch of depth 5\n",
            "|   |   |   |   |   |   |   |   |   |   |--- hours-per-week >  0.71\n",
            "|   |   |   |   |   |   |   |   |   |   |   |--- class: 0\n",
            "|   |   |   |   |   |--- age >  0.25\n",
            "|   |   |   |   |   |   |--- education-num <= 0.57\n",
            "|   |   |   |   |   |   |   |--- hours-per-week <= 0.35\n",
            "|   |   |   |   |   |   |   |   |--- relationship_ Wife <= 0.50\n",
            "|   |   |   |   |   |   |   |   |   |--- hours-per-week <= 0.34\n",
            "|   |   |   |   |   |   |   |   |   |   |--- occupation_ Tech-support <= 0.50\n",
            "|   |   |   |   |   |   |   |   |   |   |   |--- truncated branch of depth 14\n",
            "|   |   |   |   |   |   |   |   |   |   |--- occupation_ Tech-support >  0.50\n",
            "|   |   |   |   |   |   |   |   |   |   |   |--- truncated branch of depth 2\n",
            "|   |   |   |   |   |   |   |   |   |--- hours-per-week >  0.34\n",
            "|   |   |   |   |   |   |   |   |   |   |--- race_ Asian-Pac-Islander <= 0.50\n",
            "|   |   |   |   |   |   |   |   |   |   |   |--- truncated branch of depth 10\n",
            "|   |   |   |   |   |   |   |   |   |   |--- race_ Asian-Pac-Islander >  0.50\n",
            "|   |   |   |   |   |   |   |   |   |   |   |--- class: 1\n",
            "|   |   |   |   |   |   |   |   |--- relationship_ Wife >  0.50\n",
            "|   |   |   |   |   |   |   |   |   |--- occupation_ Exec-managerial <= 0.50\n",
            "|   |   |   |   |   |   |   |   |   |   |--- occupation_ Adm-clerical <= 0.50\n",
            "|   |   |   |   |   |   |   |   |   |   |   |--- truncated branch of depth 10\n",
            "|   |   |   |   |   |   |   |   |   |   |--- occupation_ Adm-clerical >  0.50\n",
            "|   |   |   |   |   |   |   |   |   |   |   |--- truncated branch of depth 11\n",
            "|   |   |   |   |   |   |   |   |   |--- occupation_ Exec-managerial >  0.50\n",
            "|   |   |   |   |   |   |   |   |   |   |--- workclass_ Local-gov <= 0.50\n",
            "|   |   |   |   |   |   |   |   |   |   |   |--- class: 1\n",
            "|   |   |   |   |   |   |   |   |   |   |--- workclass_ Local-gov >  0.50\n",
            "|   |   |   |   |   |   |   |   |   |   |   |--- class: 0\n",
            "|   |   |   |   |   |   |   |--- hours-per-week >  0.35\n",
            "|   |   |   |   |   |   |   |   |--- workclass_ Self-emp-not-inc <= 0.50\n",
            "|   |   |   |   |   |   |   |   |   |--- occupation_ Exec-managerial <= 0.50\n",
            "|   |   |   |   |   |   |   |   |   |   |--- occupation_ Other-service <= 0.50\n",
            "|   |   |   |   |   |   |   |   |   |   |   |--- truncated branch of depth 37\n",
            "|   |   |   |   |   |   |   |   |   |   |--- occupation_ Other-service >  0.50\n",
            "|   |   |   |   |   |   |   |   |   |   |   |--- truncated branch of depth 21\n",
            "|   |   |   |   |   |   |   |   |   |--- occupation_ Exec-managerial >  0.50\n",
            "|   |   |   |   |   |   |   |   |   |   |--- age <= 0.27\n",
            "|   |   |   |   |   |   |   |   |   |   |   |--- truncated branch of depth 6\n",
            "|   |   |   |   |   |   |   |   |   |   |--- age >  0.27\n",
            "|   |   |   |   |   |   |   |   |   |   |   |--- truncated branch of depth 19\n",
            "|   |   |   |   |   |   |   |   |--- workclass_ Self-emp-not-inc >  0.50\n",
            "|   |   |   |   |   |   |   |   |   |--- capital-gain <= 0.70\n",
            "|   |   |   |   |   |   |   |   |   |   |--- occupation_ Prof-specialty <= 0.50\n",
            "|   |   |   |   |   |   |   |   |   |   |   |--- truncated branch of depth 25\n",
            "|   |   |   |   |   |   |   |   |   |   |--- occupation_ Prof-specialty >  0.50\n",
            "|   |   |   |   |   |   |   |   |   |   |   |--- truncated branch of depth 6\n",
            "|   |   |   |   |   |   |   |   |   |--- capital-gain >  0.70\n",
            "|   |   |   |   |   |   |   |   |   |   |--- class: 0\n",
            "|   |   |   |   |   |   |--- education-num >  0.57\n",
            "|   |   |   |   |   |   |   |--- workclass_ Self-emp-not-inc <= 0.50\n",
            "|   |   |   |   |   |   |   |   |--- occupation_ Exec-managerial <= 0.50\n",
            "|   |   |   |   |   |   |   |   |   |--- hours-per-week <= 0.35\n",
            "|   |   |   |   |   |   |   |   |   |   |--- sex_ Male <= 0.50\n",
            "|   |   |   |   |   |   |   |   |   |   |   |--- truncated branch of depth 10\n",
            "|   |   |   |   |   |   |   |   |   |   |--- sex_ Male >  0.50\n",
            "|   |   |   |   |   |   |   |   |   |   |   |--- truncated branch of depth 12\n",
            "|   |   |   |   |   |   |   |   |   |--- hours-per-week >  0.35\n",
            "|   |   |   |   |   |   |   |   |   |   |--- occupation_ Other-service <= 0.50\n",
            "|   |   |   |   |   |   |   |   |   |   |   |--- truncated branch of depth 38\n",
            "|   |   |   |   |   |   |   |   |   |   |--- occupation_ Other-service >  0.50\n",
            "|   |   |   |   |   |   |   |   |   |   |   |--- truncated branch of depth 10\n",
            "|   |   |   |   |   |   |   |   |--- occupation_ Exec-managerial >  0.50\n",
            "|   |   |   |   |   |   |   |   |   |--- age <= 0.64\n",
            "|   |   |   |   |   |   |   |   |   |   |--- capital-loss <= 0.88\n",
            "|   |   |   |   |   |   |   |   |   |   |   |--- truncated branch of depth 26\n",
            "|   |   |   |   |   |   |   |   |   |   |--- capital-loss >  0.88\n",
            "|   |   |   |   |   |   |   |   |   |   |   |--- class: 0\n",
            "|   |   |   |   |   |   |   |   |   |--- age >  0.64\n",
            "|   |   |   |   |   |   |   |   |   |   |--- age <= 0.71\n",
            "|   |   |   |   |   |   |   |   |   |   |   |--- truncated branch of depth 7\n",
            "|   |   |   |   |   |   |   |   |   |   |--- age >  0.71\n",
            "|   |   |   |   |   |   |   |   |   |   |   |--- truncated branch of depth 4\n",
            "|   |   |   |   |   |   |   |--- workclass_ Self-emp-not-inc >  0.50\n",
            "|   |   |   |   |   |   |   |   |--- occupation_ Tech-support <= 0.50\n",
            "|   |   |   |   |   |   |   |   |   |--- occupation_ Sales <= 0.50\n",
            "|   |   |   |   |   |   |   |   |   |   |--- age <= 0.64\n",
            "|   |   |   |   |   |   |   |   |   |   |   |--- truncated branch of depth 19\n",
            "|   |   |   |   |   |   |   |   |   |   |--- age >  0.64\n",
            "|   |   |   |   |   |   |   |   |   |   |   |--- truncated branch of depth 5\n",
            "|   |   |   |   |   |   |   |   |   |--- occupation_ Sales >  0.50\n",
            "|   |   |   |   |   |   |   |   |   |   |--- hours-per-week <= 0.53\n",
            "|   |   |   |   |   |   |   |   |   |   |   |--- truncated branch of depth 10\n",
            "|   |   |   |   |   |   |   |   |   |   |--- hours-per-week >  0.53\n",
            "|   |   |   |   |   |   |   |   |   |   |   |--- truncated branch of depth 14\n",
            "|   |   |   |   |   |   |   |   |--- occupation_ Tech-support >  0.50\n",
            "|   |   |   |   |   |   |   |   |   |--- hours-per-week <= 0.23\n",
            "|   |   |   |   |   |   |   |   |   |   |--- class: 0\n",
            "|   |   |   |   |   |   |   |   |   |--- hours-per-week >  0.23\n",
            "|   |   |   |   |   |   |   |   |   |   |--- class: 1\n",
            "|   |   |   |   |--- capital-loss >  0.89\n",
            "|   |   |   |   |   |--- capital-loss <= 0.91\n",
            "|   |   |   |   |   |   |--- age <= 0.08\n",
            "|   |   |   |   |   |   |   |--- class: 0\n",
            "|   |   |   |   |   |   |--- age >  0.08\n",
            "|   |   |   |   |   |   |   |--- age <= 0.68\n",
            "|   |   |   |   |   |   |   |   |--- relationship_ Other-relative <= 0.50\n",
            "|   |   |   |   |   |   |   |   |   |--- capital-loss <= 0.90\n",
            "|   |   |   |   |   |   |   |   |   |   |--- class: 1\n",
            "|   |   |   |   |   |   |   |   |   |--- capital-loss >  0.90\n",
            "|   |   |   |   |   |   |   |   |   |   |--- capital-loss <= 0.90\n",
            "|   |   |   |   |   |   |   |   |   |   |   |--- truncated branch of depth 8\n",
            "|   |   |   |   |   |   |   |   |   |   |--- capital-loss >  0.90\n",
            "|   |   |   |   |   |   |   |   |   |   |   |--- class: 1\n",
            "|   |   |   |   |   |   |   |   |--- relationship_ Other-relative >  0.50\n",
            "|   |   |   |   |   |   |   |   |   |--- class: 0\n",
            "|   |   |   |   |   |   |   |--- age >  0.68\n",
            "|   |   |   |   |   |   |   |   |--- class: 0\n",
            "|   |   |   |   |   |--- capital-loss >  0.91\n",
            "|   |   |   |   |   |   |--- capital-loss <= 0.92\n",
            "|   |   |   |   |   |   |   |--- class: 0\n",
            "|   |   |   |   |   |   |--- capital-loss >  0.92\n",
            "|   |   |   |   |   |   |   |--- capital-loss <= 0.92\n",
            "|   |   |   |   |   |   |   |   |--- class: 1\n",
            "|   |   |   |   |   |   |   |--- capital-loss >  0.92\n",
            "|   |   |   |   |   |   |   |   |--- capital-loss <= 0.93\n",
            "|   |   |   |   |   |   |   |   |   |--- age <= 0.70\n",
            "|   |   |   |   |   |   |   |   |   |   |--- occupation_ Prof-specialty <= 0.50\n",
            "|   |   |   |   |   |   |   |   |   |   |   |--- truncated branch of depth 4\n",
            "|   |   |   |   |   |   |   |   |   |   |--- occupation_ Prof-specialty >  0.50\n",
            "|   |   |   |   |   |   |   |   |   |   |   |--- class: 1\n",
            "|   |   |   |   |   |   |   |   |   |--- age >  0.70\n",
            "|   |   |   |   |   |   |   |   |   |   |--- class: 1\n",
            "|   |   |   |   |   |   |   |   |--- capital-loss >  0.93\n",
            "|   |   |   |   |   |   |   |   |   |--- capital-loss <= 0.93\n",
            "|   |   |   |   |   |   |   |   |   |   |--- class: 1\n",
            "|   |   |   |   |   |   |   |   |   |--- capital-loss >  0.93\n",
            "|   |   |   |   |   |   |   |   |   |   |--- class: 0\n",
            "|   |   |--- capital-gain >  0.74\n",
            "|   |   |   |--- age <= 0.60\n",
            "|   |   |   |   |--- education-num <= 0.03\n",
            "|   |   |   |   |   |--- class: 0\n",
            "|   |   |   |   |--- education-num >  0.03\n",
            "|   |   |   |   |   |--- native-country_ South <= 0.50\n",
            "|   |   |   |   |   |   |--- class: 1\n",
            "|   |   |   |   |   |--- native-country_ South >  0.50\n",
            "|   |   |   |   |   |   |--- class: 0\n",
            "|   |   |   |--- age >  0.60\n",
            "|   |   |   |   |--- occupation_ Protective-serv <= 0.50\n",
            "|   |   |   |   |   |--- capital-gain <= 0.80\n",
            "|   |   |   |   |   |   |--- capital-gain <= 0.80\n",
            "|   |   |   |   |   |   |   |--- education_level_ Assoc-voc <= 0.50\n",
            "|   |   |   |   |   |   |   |   |--- occupation_ Sales <= 0.50\n",
            "|   |   |   |   |   |   |   |   |   |--- class: 1\n",
            "|   |   |   |   |   |   |   |   |--- occupation_ Sales >  0.50\n",
            "|   |   |   |   |   |   |   |   |   |--- age <= 0.68\n",
            "|   |   |   |   |   |   |   |   |   |   |--- class: 1\n",
            "|   |   |   |   |   |   |   |   |   |--- age >  0.68\n",
            "|   |   |   |   |   |   |   |   |   |   |--- age <= 0.70\n",
            "|   |   |   |   |   |   |   |   |   |   |   |--- class: 0\n",
            "|   |   |   |   |   |   |   |   |   |   |--- age >  0.70\n",
            "|   |   |   |   |   |   |   |   |   |   |   |--- class: 1\n",
            "|   |   |   |   |   |   |   |--- education_level_ Assoc-voc >  0.50\n",
            "|   |   |   |   |   |   |   |   |--- age <= 0.64\n",
            "|   |   |   |   |   |   |   |   |   |--- class: 1\n",
            "|   |   |   |   |   |   |   |   |--- age >  0.64\n",
            "|   |   |   |   |   |   |   |   |   |--- class: 0\n",
            "|   |   |   |   |   |   |--- capital-gain >  0.80\n",
            "|   |   |   |   |   |   |   |--- class: 0\n",
            "|   |   |   |   |   |--- capital-gain >  0.80\n",
            "|   |   |   |   |   |   |--- capital-gain <= 0.86\n",
            "|   |   |   |   |   |   |   |--- class: 1\n",
            "|   |   |   |   |   |   |--- capital-gain >  0.86\n",
            "|   |   |   |   |   |   |   |--- relationship_ Husband <= 0.50\n",
            "|   |   |   |   |   |   |   |   |--- class: 0\n",
            "|   |   |   |   |   |   |   |--- relationship_ Husband >  0.50\n",
            "|   |   |   |   |   |   |   |   |--- class: 1\n",
            "|   |   |   |   |--- occupation_ Protective-serv >  0.50\n",
            "|   |   |   |   |   |--- class: 0\n",
            "|   |--- education-num >  0.77\n",
            "|   |   |--- capital-gain <= 0.74\n",
            "|   |   |   |--- capital-loss <= 0.89\n",
            "|   |   |   |   |--- hours-per-week <= 0.31\n",
            "|   |   |   |   |   |--- sex_ Male <= 0.50\n",
            "|   |   |   |   |   |   |--- capital-gain <= 0.73\n",
            "|   |   |   |   |   |   |   |--- age <= 0.45\n",
            "|   |   |   |   |   |   |   |   |--- occupation_ Exec-managerial <= 0.50\n",
            "|   |   |   |   |   |   |   |   |   |--- age <= 0.23\n",
            "|   |   |   |   |   |   |   |   |   |   |--- hours-per-week <= 0.27\n",
            "|   |   |   |   |   |   |   |   |   |   |   |--- truncated branch of depth 10\n",
            "|   |   |   |   |   |   |   |   |   |   |--- hours-per-week >  0.27\n",
            "|   |   |   |   |   |   |   |   |   |   |   |--- class: 0\n",
            "|   |   |   |   |   |   |   |   |   |--- age >  0.23\n",
            "|   |   |   |   |   |   |   |   |   |   |--- capital-loss <= 0.45\n",
            "|   |   |   |   |   |   |   |   |   |   |   |--- truncated branch of depth 12\n",
            "|   |   |   |   |   |   |   |   |   |   |--- capital-loss >  0.45\n",
            "|   |   |   |   |   |   |   |   |   |   |   |--- class: 0\n",
            "|   |   |   |   |   |   |   |   |--- occupation_ Exec-managerial >  0.50\n",
            "|   |   |   |   |   |   |   |   |   |--- class: 1\n",
            "|   |   |   |   |   |   |   |--- age >  0.45\n",
            "|   |   |   |   |   |   |   |   |--- age <= 0.62\n",
            "|   |   |   |   |   |   |   |   |   |--- hours-per-week <= 0.14\n",
            "|   |   |   |   |   |   |   |   |   |   |--- class: 0\n",
            "|   |   |   |   |   |   |   |   |   |--- hours-per-week >  0.14\n",
            "|   |   |   |   |   |   |   |   |   |   |--- hours-per-week <= 0.22\n",
            "|   |   |   |   |   |   |   |   |   |   |   |--- class: 1\n",
            "|   |   |   |   |   |   |   |   |   |   |--- hours-per-week >  0.22\n",
            "|   |   |   |   |   |   |   |   |   |   |   |--- truncated branch of depth 4\n",
            "|   |   |   |   |   |   |   |   |--- age >  0.62\n",
            "|   |   |   |   |   |   |   |   |   |--- class: 1\n",
            "|   |   |   |   |   |   |--- capital-gain >  0.73\n",
            "|   |   |   |   |   |   |   |--- class: 0\n",
            "|   |   |   |   |   |--- sex_ Male >  0.50\n",
            "|   |   |   |   |   |   |--- education-num <= 0.90\n",
            "|   |   |   |   |   |   |   |--- age <= 0.36\n",
            "|   |   |   |   |   |   |   |   |--- hours-per-week <= 0.05\n",
            "|   |   |   |   |   |   |   |   |   |--- class: 1\n",
            "|   |   |   |   |   |   |   |   |--- hours-per-week >  0.05\n",
            "|   |   |   |   |   |   |   |   |   |--- occupation_ Other-service <= 0.50\n",
            "|   |   |   |   |   |   |   |   |   |   |--- race_ Black <= 0.50\n",
            "|   |   |   |   |   |   |   |   |   |   |   |--- truncated branch of depth 6\n",
            "|   |   |   |   |   |   |   |   |   |   |--- race_ Black >  0.50\n",
            "|   |   |   |   |   |   |   |   |   |   |   |--- truncated branch of depth 2\n",
            "|   |   |   |   |   |   |   |   |   |--- occupation_ Other-service >  0.50\n",
            "|   |   |   |   |   |   |   |   |   |   |--- age <= 0.25\n",
            "|   |   |   |   |   |   |   |   |   |   |   |--- truncated branch of depth 4\n",
            "|   |   |   |   |   |   |   |   |   |   |--- age >  0.25\n",
            "|   |   |   |   |   |   |   |   |   |   |   |--- class: 0\n",
            "|   |   |   |   |   |   |   |--- age >  0.36\n",
            "|   |   |   |   |   |   |   |   |--- occupation_ Tech-support <= 0.50\n",
            "|   |   |   |   |   |   |   |   |   |--- age <= 0.69\n",
            "|   |   |   |   |   |   |   |   |   |   |--- age <= 0.66\n",
            "|   |   |   |   |   |   |   |   |   |   |   |--- truncated branch of depth 12\n",
            "|   |   |   |   |   |   |   |   |   |   |--- age >  0.66\n",
            "|   |   |   |   |   |   |   |   |   |   |   |--- truncated branch of depth 5\n",
            "|   |   |   |   |   |   |   |   |   |--- age >  0.69\n",
            "|   |   |   |   |   |   |   |   |   |   |--- hours-per-week <= 0.10\n",
            "|   |   |   |   |   |   |   |   |   |   |   |--- truncated branch of depth 3\n",
            "|   |   |   |   |   |   |   |   |   |   |--- hours-per-week >  0.10\n",
            "|   |   |   |   |   |   |   |   |   |   |   |--- truncated branch of depth 3\n",
            "|   |   |   |   |   |   |   |   |--- occupation_ Tech-support >  0.50\n",
            "|   |   |   |   |   |   |   |   |   |--- class: 1\n",
            "|   |   |   |   |   |   |--- education-num >  0.90\n",
            "|   |   |   |   |   |   |   |--- age <= 0.40\n",
            "|   |   |   |   |   |   |   |   |--- class: 1\n",
            "|   |   |   |   |   |   |   |--- age >  0.40\n",
            "|   |   |   |   |   |   |   |   |--- capital-gain <= 0.31\n",
            "|   |   |   |   |   |   |   |   |   |--- age <= 0.50\n",
            "|   |   |   |   |   |   |   |   |   |   |--- class: 0\n",
            "|   |   |   |   |   |   |   |   |   |--- age >  0.50\n",
            "|   |   |   |   |   |   |   |   |   |   |--- age <= 0.66\n",
            "|   |   |   |   |   |   |   |   |   |   |   |--- truncated branch of depth 6\n",
            "|   |   |   |   |   |   |   |   |   |   |--- age >  0.66\n",
            "|   |   |   |   |   |   |   |   |   |   |   |--- truncated branch of depth 3\n",
            "|   |   |   |   |   |   |   |   |--- capital-gain >  0.31\n",
            "|   |   |   |   |   |   |   |   |   |--- class: 0\n",
            "|   |   |   |   |--- hours-per-week >  0.31\n",
            "|   |   |   |   |   |--- age <= 0.16\n",
            "|   |   |   |   |   |   |--- age <= 0.12\n",
            "|   |   |   |   |   |   |   |--- hours-per-week <= 0.43\n",
            "|   |   |   |   |   |   |   |   |--- workclass_ Self-emp-inc <= 0.50\n",
            "|   |   |   |   |   |   |   |   |   |--- occupation_ Protective-serv <= 0.50\n",
            "|   |   |   |   |   |   |   |   |   |   |--- occupation_ Farming-fishing <= 0.50\n",
            "|   |   |   |   |   |   |   |   |   |   |   |--- truncated branch of depth 8\n",
            "|   |   |   |   |   |   |   |   |   |   |--- occupation_ Farming-fishing >  0.50\n",
            "|   |   |   |   |   |   |   |   |   |   |   |--- class: 1\n",
            "|   |   |   |   |   |   |   |   |   |--- occupation_ Protective-serv >  0.50\n",
            "|   |   |   |   |   |   |   |   |   |   |--- class: 1\n",
            "|   |   |   |   |   |   |   |   |--- workclass_ Self-emp-inc >  0.50\n",
            "|   |   |   |   |   |   |   |   |   |--- class: 1\n",
            "|   |   |   |   |   |   |   |--- hours-per-week >  0.43\n",
            "|   |   |   |   |   |   |   |   |--- workclass_ Private <= 0.50\n",
            "|   |   |   |   |   |   |   |   |   |--- class: 0\n",
            "|   |   |   |   |   |   |   |   |--- workclass_ Private >  0.50\n",
            "|   |   |   |   |   |   |   |   |   |--- age <= 0.10\n",
            "|   |   |   |   |   |   |   |   |   |   |--- native-country_ England <= 0.50\n",
            "|   |   |   |   |   |   |   |   |   |   |   |--- truncated branch of depth 4\n",
            "|   |   |   |   |   |   |   |   |   |   |--- native-country_ England >  0.50\n",
            "|   |   |   |   |   |   |   |   |   |   |   |--- class: 1\n",
            "|   |   |   |   |   |   |   |   |   |--- age >  0.10\n",
            "|   |   |   |   |   |   |   |   |   |   |--- sex_ Female <= 0.50\n",
            "|   |   |   |   |   |   |   |   |   |   |   |--- truncated branch of depth 4\n",
            "|   |   |   |   |   |   |   |   |   |   |--- sex_ Female >  0.50\n",
            "|   |   |   |   |   |   |   |   |   |   |   |--- class: 0\n",
            "|   |   |   |   |   |   |--- age >  0.12\n",
            "|   |   |   |   |   |   |   |--- sex_ Male <= 0.50\n",
            "|   |   |   |   |   |   |   |   |--- race_ White <= 0.50\n",
            "|   |   |   |   |   |   |   |   |   |--- age <= 0.13\n",
            "|   |   |   |   |   |   |   |   |   |   |--- class: 1\n",
            "|   |   |   |   |   |   |   |   |   |--- age >  0.13\n",
            "|   |   |   |   |   |   |   |   |   |   |--- hours-per-week <= 0.42\n",
            "|   |   |   |   |   |   |   |   |   |   |   |--- class: 0\n",
            "|   |   |   |   |   |   |   |   |   |   |--- hours-per-week >  0.42\n",
            "|   |   |   |   |   |   |   |   |   |   |   |--- truncated branch of depth 2\n",
            "|   |   |   |   |   |   |   |   |--- race_ White >  0.50\n",
            "|   |   |   |   |   |   |   |   |   |--- education_level_ Masters <= 0.50\n",
            "|   |   |   |   |   |   |   |   |   |   |--- class: 1\n",
            "|   |   |   |   |   |   |   |   |   |--- education_level_ Masters >  0.50\n",
            "|   |   |   |   |   |   |   |   |   |   |--- workclass_ Local-gov <= 0.50\n",
            "|   |   |   |   |   |   |   |   |   |   |   |--- class: 0\n",
            "|   |   |   |   |   |   |   |   |   |   |--- workclass_ Local-gov >  0.50\n",
            "|   |   |   |   |   |   |   |   |   |   |   |--- class: 1\n",
            "|   |   |   |   |   |   |   |--- sex_ Male >  0.50\n",
            "|   |   |   |   |   |   |   |   |--- occupation_ Sales <= 0.50\n",
            "|   |   |   |   |   |   |   |   |   |--- capital-loss <= 0.44\n",
            "|   |   |   |   |   |   |   |   |   |   |--- age <= 0.14\n",
            "|   |   |   |   |   |   |   |   |   |   |   |--- truncated branch of depth 8\n",
            "|   |   |   |   |   |   |   |   |   |   |--- age >  0.14\n",
            "|   |   |   |   |   |   |   |   |   |   |   |--- truncated branch of depth 21\n",
            "|   |   |   |   |   |   |   |   |   |--- capital-loss >  0.44\n",
            "|   |   |   |   |   |   |   |   |   |   |--- class: 1\n",
            "|   |   |   |   |   |   |   |   |--- occupation_ Sales >  0.50\n",
            "|   |   |   |   |   |   |   |   |   |--- hours-per-week <= 0.49\n",
            "|   |   |   |   |   |   |   |   |   |   |--- age <= 0.14\n",
            "|   |   |   |   |   |   |   |   |   |   |   |--- truncated branch of depth 4\n",
            "|   |   |   |   |   |   |   |   |   |   |--- age >  0.14\n",
            "|   |   |   |   |   |   |   |   |   |   |   |--- truncated branch of depth 2\n",
            "|   |   |   |   |   |   |   |   |   |--- hours-per-week >  0.49\n",
            "|   |   |   |   |   |   |   |   |   |   |--- hours-per-week <= 0.58\n",
            "|   |   |   |   |   |   |   |   |   |   |   |--- truncated branch of depth 4\n",
            "|   |   |   |   |   |   |   |   |   |   |--- hours-per-week >  0.58\n",
            "|   |   |   |   |   |   |   |   |   |   |   |--- class: 1\n",
            "|   |   |   |   |   |--- age >  0.16\n",
            "|   |   |   |   |   |   |--- capital-gain <= 0.70\n",
            "|   |   |   |   |   |   |   |--- capital-loss <= 0.43\n",
            "|   |   |   |   |   |   |   |   |--- occupation_ Exec-managerial <= 0.50\n",
            "|   |   |   |   |   |   |   |   |   |--- occupation_ Prof-specialty <= 0.50\n",
            "|   |   |   |   |   |   |   |   |   |   |--- native-country_ United-States <= 0.50\n",
            "|   |   |   |   |   |   |   |   |   |   |   |--- truncated branch of depth 12\n",
            "|   |   |   |   |   |   |   |   |   |   |--- native-country_ United-States >  0.50\n",
            "|   |   |   |   |   |   |   |   |   |   |   |--- truncated branch of depth 31\n",
            "|   |   |   |   |   |   |   |   |   |--- occupation_ Prof-specialty >  0.50\n",
            "|   |   |   |   |   |   |   |   |   |   |--- education-num <= 0.90\n",
            "|   |   |   |   |   |   |   |   |   |   |   |--- truncated branch of depth 36\n",
            "|   |   |   |   |   |   |   |   |   |   |--- education-num >  0.90\n",
            "|   |   |   |   |   |   |   |   |   |   |   |--- truncated branch of depth 18\n",
            "|   |   |   |   |   |   |   |   |--- occupation_ Exec-managerial >  0.50\n",
            "|   |   |   |   |   |   |   |   |   |--- workclass_ Self-emp-not-inc <= 0.50\n",
            "|   |   |   |   |   |   |   |   |   |   |--- hours-per-week <= 0.45\n",
            "|   |   |   |   |   |   |   |   |   |   |   |--- truncated branch of depth 20\n",
            "|   |   |   |   |   |   |   |   |   |   |--- hours-per-week >  0.45\n",
            "|   |   |   |   |   |   |   |   |   |   |   |--- truncated branch of depth 26\n",
            "|   |   |   |   |   |   |   |   |   |--- workclass_ Self-emp-not-inc >  0.50\n",
            "|   |   |   |   |   |   |   |   |   |   |--- age <= 0.60\n",
            "|   |   |   |   |   |   |   |   |   |   |   |--- truncated branch of depth 11\n",
            "|   |   |   |   |   |   |   |   |   |   |--- age >  0.60\n",
            "|   |   |   |   |   |   |   |   |   |   |   |--- class: 0\n",
            "|   |   |   |   |   |   |   |--- capital-loss >  0.43\n",
            "|   |   |   |   |   |   |   |   |--- native-country_ Thailand <= 0.50\n",
            "|   |   |   |   |   |   |   |   |   |--- occupation_ Prof-specialty <= 0.50\n",
            "|   |   |   |   |   |   |   |   |   |   |--- class: 0\n",
            "|   |   |   |   |   |   |   |   |   |--- occupation_ Prof-specialty >  0.50\n",
            "|   |   |   |   |   |   |   |   |   |   |--- capital-loss <= 0.88\n",
            "|   |   |   |   |   |   |   |   |   |   |   |--- class: 1\n",
            "|   |   |   |   |   |   |   |   |   |   |--- capital-loss >  0.88\n",
            "|   |   |   |   |   |   |   |   |   |   |   |--- class: 0\n",
            "|   |   |   |   |   |   |   |   |--- native-country_ Thailand >  0.50\n",
            "|   |   |   |   |   |   |   |   |   |--- class: 1\n",
            "|   |   |   |   |   |   |--- capital-gain >  0.70\n",
            "|   |   |   |   |   |   |   |--- capital-gain <= 0.73\n",
            "|   |   |   |   |   |   |   |   |--- capital-gain <= 0.73\n",
            "|   |   |   |   |   |   |   |   |   |--- class: 0\n",
            "|   |   |   |   |   |   |   |   |--- capital-gain >  0.73\n",
            "|   |   |   |   |   |   |   |   |   |--- education_level_ Masters <= 0.50\n",
            "|   |   |   |   |   |   |   |   |   |   |--- class: 1\n",
            "|   |   |   |   |   |   |   |   |   |--- education_level_ Masters >  0.50\n",
            "|   |   |   |   |   |   |   |   |   |   |--- occupation_ Exec-managerial <= 0.50\n",
            "|   |   |   |   |   |   |   |   |   |   |   |--- class: 1\n",
            "|   |   |   |   |   |   |   |   |   |   |--- occupation_ Exec-managerial >  0.50\n",
            "|   |   |   |   |   |   |   |   |   |   |   |--- class: 0\n",
            "|   |   |   |   |   |   |   |--- capital-gain >  0.73\n",
            "|   |   |   |   |   |   |   |   |--- class: 0\n",
            "|   |   |   |--- capital-loss >  0.89\n",
            "|   |   |   |   |--- capital-loss <= 0.91\n",
            "|   |   |   |   |   |--- workclass_ Federal-gov <= 0.50\n",
            "|   |   |   |   |   |   |--- class: 1\n",
            "|   |   |   |   |   |--- workclass_ Federal-gov >  0.50\n",
            "|   |   |   |   |   |   |--- age <= 0.43\n",
            "|   |   |   |   |   |   |   |--- class: 1\n",
            "|   |   |   |   |   |   |--- age >  0.43\n",
            "|   |   |   |   |   |   |   |--- class: 0\n",
            "|   |   |   |   |--- capital-loss >  0.91\n",
            "|   |   |   |   |   |--- capital-loss <= 0.92\n",
            "|   |   |   |   |   |   |--- age <= 0.66\n",
            "|   |   |   |   |   |   |   |--- class: 0\n",
            "|   |   |   |   |   |   |--- age >  0.66\n",
            "|   |   |   |   |   |   |   |--- class: 1\n",
            "|   |   |   |   |   |--- capital-loss >  0.92\n",
            "|   |   |   |   |   |   |--- capital-loss <= 0.93\n",
            "|   |   |   |   |   |   |   |--- relationship_ Wife <= 0.50\n",
            "|   |   |   |   |   |   |   |   |--- class: 1\n",
            "|   |   |   |   |   |   |   |--- relationship_ Wife >  0.50\n",
            "|   |   |   |   |   |   |   |   |--- age <= 0.49\n",
            "|   |   |   |   |   |   |   |   |   |--- class: 1\n",
            "|   |   |   |   |   |   |   |   |--- age >  0.49\n",
            "|   |   |   |   |   |   |   |   |   |--- class: 0\n",
            "|   |   |   |   |   |   |--- capital-loss >  0.93\n",
            "|   |   |   |   |   |   |   |--- class: 0\n",
            "|   |   |--- capital-gain >  0.74\n",
            "|   |   |   |--- age <= 0.94\n",
            "|   |   |   |   |--- occupation_ Farming-fishing <= 0.50\n",
            "|   |   |   |   |   |--- class: 1\n",
            "|   |   |   |   |--- occupation_ Farming-fishing >  0.50\n",
            "|   |   |   |   |   |--- education_level_ Masters <= 0.50\n",
            "|   |   |   |   |   |   |--- class: 1\n",
            "|   |   |   |   |   |--- education_level_ Masters >  0.50\n",
            "|   |   |   |   |   |   |--- class: 0\n",
            "|   |   |   |--- age >  0.94\n",
            "|   |   |   |   |--- education-num <= 0.83\n",
            "|   |   |   |   |   |--- occupation_ Prof-specialty <= 0.50\n",
            "|   |   |   |   |   |   |--- class: 1\n",
            "|   |   |   |   |   |--- occupation_ Prof-specialty >  0.50\n",
            "|   |   |   |   |   |   |--- class: 0\n",
            "|   |   |   |   |--- education-num >  0.83\n",
            "|   |   |   |   |   |--- class: 1\n",
            "\n"
          ],
          "name": "stdout"
        }
      ]
    },
    {
      "cell_type": "markdown",
      "metadata": {
        "id": "zkCUQOH2UOmq",
        "colab_type": "text"
      },
      "source": [
        "### Implementation: Model Tuning\n",
        "Fine tune the chosen model. Use grid search (`GridSearchCV`) with at least one important parameter tuned with at least 3 different values. You will need to use the entire training set for this. In the code cell below, you will need to implement the following:\n",
        "- Import [`sklearn.grid_search.GridSearchCV`](http://scikit-learn.org/0.17/modules/generated/sklearn.grid_search.GridSearchCV.html) and [`sklearn.metrics.make_scorer`](http://scikit-learn.org/stable/modules/generated/sklearn.metrics.make_scorer.html).\n",
        "- Initialize the classifier you've chosen and store it in `clf`.\n",
        " - Set a `random_state` if one is available to the same state you set before.\n",
        "- Create a dictionary of parameters you wish to tune for the chosen model.\n",
        " - Example: `parameters = {'parameter' : [list of values]}`.\n",
        " - **Note:** Avoid tuning the `max_features` parameter of your learner if that parameter is available!\n",
        "- Use `make_scorer` to create an `fbeta_score` scoring object (with $\\beta = 0.5$).\n",
        "- Perform grid search on the classifier `clf` using the `'scorer'`, and store it in `grid_obj`.\n",
        "- Fit the grid search object to the training data (`X_train`, `y_train`), and store it in `grid_fit`.\n",
        "\n",
        "**Note:** Depending on the algorithm chosen and the parameter list, the following implementation may take some time to run!"
      ]
    },
    {
      "cell_type": "code",
      "metadata": {
        "id": "ZVYJ5ZCpUOmq",
        "colab_type": "code",
        "colab": {
          "base_uri": "https://localhost:8080/",
          "height": 181
        },
        "outputId": "ab73b062-840c-4684-f81c-2b802807bc1e"
      },
      "source": [
        "# TODO: Import 'GridSearchCV', 'make_scorer', and any other necessary libraries\n",
        "from sklearn.model_selection import GridSearchCV\n",
        "from sklearn.metrics import make_scorer\n",
        "# TODO: Initialize the classifier\n",
        "clf = DecisionTreeClassifier()\n",
        "\n",
        "# TODO: Create the parameters list you wish to tune, using a dictionary if needed.\n",
        "# HINT: parameters = {'parameter_1': [value1, value2], 'parameter_2': [value1, value2]}\n",
        "parameters = {'min_samples_split' : range(2,100,20),\n",
        "              'max_depth': range(1,20,5),\n",
        "              'criterion': ['gini', 'entropy']}\n",
        "\n",
        "# TODO: Make an fbeta_score scoring object using make_scorer()\n",
        "scorer = make_scorer(fbeta_score, beta=0.5)\n",
        "\n",
        "# TODO: Perform grid search on the classifier using 'scorer' as the scoring method using GridSearchCV()\n",
        "grid_obj = GridSearchCV(clf, parameters,scoring=scorer)\n",
        "\n",
        "# TODO: Fit the grid search object to the training data and find the optimal parameters using fit()\n",
        "grid_fit = grid_obj.fit(X_train, y_train)\n",
        "\n",
        "# Get the estimator\n",
        "best_clf = grid_fit.best_estimator_\n",
        "\n",
        "# Make predictions using the unoptimized and model\n",
        "predictions = (clf.fit(X_train, y_train)).predict(X_test)\n",
        "best_predictions = best_clf.predict(X_test)\n",
        "\n",
        "# Report the before-and-afterscores\n",
        "print(\"Unoptimized model\\n------\")\n",
        "print(\"Accuracy score on testing data: {:.4f}\".format(accuracy_score(y_test, predictions)))\n",
        "print(\"F-score on testing data: {:.4f}\".format(fbeta_score(y_test, predictions, beta = 0.5)))\n",
        "print(\"\\nOptimized Model\\n------\")\n",
        "print(\"Final accuracy score on the testing data: {:.4f}\".format(accuracy_score(y_test, best_predictions)))\n",
        "print(\"Final F-score on the testing data: {:.4f}\".format(fbeta_score(y_test, best_predictions, beta = 0.5)))"
      ],
      "execution_count": 70,
      "outputs": [
        {
          "output_type": "stream",
          "text": [
            "Unoptimized model\n",
            "------\n",
            "Accuracy score on testing data: 0.8185\n",
            "F-score on testing data: 0.6277\n",
            "\n",
            "Optimized Model\n",
            "------\n",
            "Final accuracy score on the testing data: 0.8523\n",
            "Final F-score on the testing data: 0.7224\n"
          ],
          "name": "stdout"
        }
      ]
    },
    {
      "cell_type": "markdown",
      "metadata": {
        "id": "gmvKqav6UOms",
        "colab_type": "text"
      },
      "source": [
        "### Question 5 - Final Model Evaluation\n",
        "\n",
        "* What is your optimized model's accuracy and F-score on the testing data? 0.8523,0.7224\n",
        "* Are these scores better or worse than the unoptimized model? Better\n",
        "* How do the results from your optimized model compare to the naive predictor benchmarks you found earlier in **Question 1**?\n",
        "Naive Predictor got [Accuracy score: 0.2478, F-score: 0.2917]\n",
        "\n",
        "**Note:** Fill in the table below with your results, and then provide discussion in the **Answer** box."
      ]
    },
    {
      "cell_type": "markdown",
      "metadata": {
        "id": "nfDEd4MeUOms",
        "colab_type": "text"
      },
      "source": [
        "#### Results:\n",
        "\n",
        "|     Metric     | Unoptimized Model | Optimized Model |\n",
        "| :------------: | :---------------: | :-------------: | \n",
        "| Accuracy Score |      0.8182       |    0.8523       |\n",
        "| F-score        |      0.6272       |    0.7224       |\n",
        "\n",
        "\n"
      ]
    },
    {
      "cell_type": "markdown",
      "metadata": {
        "id": "RvGsZkUJUOmt",
        "colab_type": "text"
      },
      "source": [
        "**Answer: **\n",
        "\n",
        "* Model's accuracy and F-score on the testing data: 0.8523,0.7224\n",
        "* Scores are better than the unoptimized model?\n",
        "* My optimized model performance is much better than naive predictor benchmarks \n",
        "* Naive Predictor got [Accuracy score: 0.2478, F-score: 0.2917]\n"
      ]
    },
    {
      "cell_type": "markdown",
      "metadata": {
        "id": "icwd14GpUOmt",
        "colab_type": "text"
      },
      "source": [
        "----\n",
        "## Feature Importance\n",
        "\n",
        "An important task when performing supervised learning on a dataset like the census data we study here is determining which features provide the most predictive power. By focusing on the relationship between only a few crucial features and the target label we simplify our understanding of the phenomenon, which is most always a useful thing to do. In the case of this project, that means we wish to identify a small number of features that most strongly predict whether an individual makes at most or more than \\$50,000.\n",
        "\n",
        "Choose a scikit-learn classifier (e.g., adaboost, random forests) that has a `feature_importance_` attribute, which is a function that ranks the importance of features according to the chosen classifier.  In the next python cell fit this classifier to training set and use this attribute to determine the top 5 most important features for the census dataset."
      ]
    },
    {
      "cell_type": "markdown",
      "metadata": {
        "id": "-mdrXd21UOmt",
        "colab_type": "text"
      },
      "source": [
        "### Question 6 - Feature Relevance Observation\n",
        "When **Exploring the Data**, it was shown there are thirteen available features for each individual on record in the census data. Of these thirteen records, which five features do you believe to be most important for prediction, and in what order would you rank them and why?"
      ]
    },
    {
      "cell_type": "markdown",
      "metadata": {
        "id": "XLz_WOc9UOmu",
        "colab_type": "text"
      },
      "source": [
        "**Answer:**\n",
        "\n",
        "From the histogram, we see  that the following features are relevant:\n",
        "as follows and in sequnce of importance age , capital gain, capital-loss, \n",
        "\n",
        "1.   Age - Individuals with more years of experience have higher salaries\n",
        "2.   Capital Gain - Individuals with higher investment income will have higher salaries\n",
        "3.   Marital status - Married individuals tend to make higher salaries\n",
        "4.   Education Num - Individuals with more years of education tend to have higher salaries\n",
        "5.   Hours per week - Individuals who work more hours per week tend to have higher salaries\n"
      ]
    },
    {
      "cell_type": "code",
      "metadata": {
        "id": "Ca0Kwv6Zu0Jz",
        "colab_type": "code",
        "colab": {
          "base_uri": "https://localhost:8080/",
          "height": 408
        },
        "outputId": "0c51a904-b401-419e-d072-12d4fc591fd4"
      },
      "source": [
        "data.hist()"
      ],
      "execution_count": 71,
      "outputs": [
        {
          "output_type": "execute_result",
          "data": {
            "text/plain": [
              "array([[<matplotlib.axes._subplots.AxesSubplot object at 0x7fda7beb79e8>,\n",
              "        <matplotlib.axes._subplots.AxesSubplot object at 0x7fda811da710>],\n",
              "       [<matplotlib.axes._subplots.AxesSubplot object at 0x7fda81152c18>,\n",
              "        <matplotlib.axes._subplots.AxesSubplot object at 0x7fda852f54e0>],\n",
              "       [<matplotlib.axes._subplots.AxesSubplot object at 0x7fda816b1358>,\n",
              "        <matplotlib.axes._subplots.AxesSubplot object at 0x7fda7bfacda0>]],\n",
              "      dtype=object)"
            ]
          },
          "metadata": {
            "tags": []
          },
          "execution_count": 71
        },
        {
          "output_type": "display_data",
          "data": {
            "image/png": "[encoded data removed]",
            "text/plain": [
              "<Figure size 432x288 with 6 Axes>"
            ]
          },
          "metadata": {
            "tags": [],
            "needs_background": "light"
          }
        }
      ]
    },
    {
      "cell_type": "markdown",
      "metadata": {
        "id": "sRsmWYIkUOmu",
        "colab_type": "text"
      },
      "source": [
        "### Implementation - Extracting Feature Importance\n",
        "Choose a `scikit-learn` supervised learning algorithm that has a `feature_importance_` attribute availble for it. This attribute is a function that ranks the importance of each feature when making predictions based on the chosen algorithm.\n",
        "\n",
        "In the code cell below, you will need to implement the following:\n",
        " - Import a supervised learning model from sklearn if it is different from the three used earlier.\n",
        " - Train the supervised model on the entire training set.\n",
        " - Extract the feature importances using `'.feature_importances_'`."
      ]
    },
    {
      "cell_type": "code",
      "metadata": {
        "id": "IeJXvD1eUOmv",
        "colab_type": "code",
        "colab": {
          "base_uri": "https://localhost:8080/",
          "height": 369
        },
        "outputId": "416ee952-4059-412b-8d78-70efff9ccde0"
      },
      "source": [
        "# TODO: Import a supervised learning model that has 'feature_importances_'\n",
        "from sklearn.ensemble import RandomForestClassifier\n",
        "\n",
        "# TODO: Train the supervised model on the training set using .fit(X_train, y_train)\n",
        "model = RandomForestClassifier()\n",
        "model.fit(X_train, y_train)\n",
        "\n",
        "# TODO: Extract the feature importances using .feature_importances_ \n",
        "importances = model.feature_importances_\n",
        "\n",
        "# Plot\n",
        "vs.feature_plot(importances, X_train, y_train)"
      ],
      "execution_count": 72,
      "outputs": [
        {
          "output_type": "display_data",
          "data": {
            "image/png": "[encoded data removed]",
            "text/plain": [
              "<Figure size 648x360 with 1 Axes>"
            ]
          },
          "metadata": {
            "tags": [],
            "needs_background": "light"
          }
        }
      ]
    },
    {
      "cell_type": "markdown",
      "metadata": {
        "id": "LPiP_w-8UOmx",
        "colab_type": "text"
      },
      "source": [
        "### Question 7 - Extracting Feature Importance\n",
        "\n",
        "Observe the visualization created above which displays the five most relevant features for predicting if an individual makes at most or above \\$50,000.  \n",
        "* How do these five features compare to the five features you discussed in **Question 6**?\n",
        "* If you were close to the same answer, how does this visualization confirm your thoughts? \n",
        "* If you were not close, why do you think these features are more relevant?"
      ]
    },
    {
      "cell_type": "markdown",
      "metadata": {
        "id": "lOiDnbovUOmy",
        "colab_type": "text"
      },
      "source": [
        "**Answer:**\n",
        "\n",
        "\n",
        "* How do these five features compare to the five features you discussed in **Question 6**?\n",
        "    * They are the same features but in a different order. I did not expect marital status to come at the bottom\n",
        "* If you were close to the same answer, how does this visualization confirm your thoughts? \n",
        "    * This visualization shows that age is the most important feature followed by hours-per-week. I thought education would come before hours-per-week.\n",
        "* If you were not close, why do you think these features are more relevant?\n",
        "    * N/A"
      ]
    },
    {
      "cell_type": "markdown",
      "metadata": {
        "id": "hmpEzzFxUOmy",
        "colab_type": "text"
      },
      "source": [
        "### Feature Selection\n",
        "How does a model perform if we only use a subset of all the available features in the data? With less features required to train, the expectation is that training and prediction time is much lower — at the cost of performance metrics. From the visualization above, we see that the top five most important features contribute more than half of the importance of **all** features present in the data. This hints that we can attempt to *reduce the feature space* and simplify the information required for the model to learn. The code cell below will use the same optimized model you found earlier, and train it on the same training set *with only the top five important features*. "
      ]
    },
    {
      "cell_type": "code",
      "metadata": {
        "id": "teYtfc9yUOmz",
        "colab_type": "code",
        "colab": {
          "base_uri": "https://localhost:8080/",
          "height": 181
        },
        "outputId": "9252deb5-953c-43a7-a4e9-cb3e336ec91c"
      },
      "source": [
        "# Import functionality for cloning a model\n",
        "from sklearn.base import clone\n",
        "\n",
        "# Reduce the feature space\n",
        "X_train_reduced = X_train[X_train.columns.values[(np.argsort(importances)[::-1])[:5]]]\n",
        "X_test_reduced = X_test[X_test.columns.values[(np.argsort(importances)[::-1])[:5]]]\n",
        "\n",
        "# Train on the \"best\" model found from grid search earlier\n",
        "clf = (clone(best_clf)).fit(X_train_reduced, y_train)\n",
        "\n",
        "# Make new predictions\n",
        "reduced_predictions = clf.predict(X_test_reduced)\n",
        "\n",
        "# Report scores from the final model using both versions of data\n",
        "print(\"Final Model trained on full data\\n------\")\n",
        "print(\"Accuracy on testing data: {:.4f}\".format(accuracy_score(y_test, best_predictions)))\n",
        "print(\"F-score on testing data: {:.4f}\".format(fbeta_score(y_test, best_predictions, beta = 0.5)))\n",
        "print(\"\\nFinal Model trained on reduced data\\n------\")\n",
        "print(\"Accuracy on testing data: {:.4f}\".format(accuracy_score(y_test, reduced_predictions)))\n",
        "print(\"F-score on testing data: {:.4f}\".format(fbeta_score(y_test, reduced_predictions, beta = 0.5)))"
      ],
      "execution_count": 73,
      "outputs": [
        {
          "output_type": "stream",
          "text": [
            "Final Model trained on full data\n",
            "------\n",
            "Accuracy on testing data: 0.8523\n",
            "F-score on testing data: 0.7224\n",
            "\n",
            "Final Model trained on reduced data\n",
            "------\n",
            "Accuracy on testing data: 0.8449\n",
            "F-score on testing data: 0.7053\n"
          ],
          "name": "stdout"
        }
      ]
    },
    {
      "cell_type": "markdown",
      "metadata": {
        "id": "DnzuQoj9UOm1",
        "colab_type": "text"
      },
      "source": [
        "### Question 8 - Effects of Feature Selection\n",
        "\n",
        "* How does the final model's F-score and accuracy score on the reduced data using only five features compare to those same scores when all features are used?\n",
        "* If training time was a factor, would you consider using the reduced data as your training set?"
      ]
    },
    {
      "cell_type": "markdown",
      "metadata": {
        "id": "ztayGNYFUOm2",
        "colab_type": "text"
      },
      "source": [
        "**Answer:**\n",
        "\n",
        "* The final model's F-score and accuracy score on the reduced data using only five features is almost as good as when all features are used on the full dataset\n",
        "* If I wanted to reduce training time, I would use the reduced dataset and fewer features"
      ]
    },
    {
      "cell_type": "markdown",
      "metadata": {
        "id": "93BnI2X8UOm2",
        "colab_type": "text"
      },
      "source": [
        "> **Note**: Once you have completed all of the code implementations and successfully answered each question above, you may finalize your work by exporting the iPython Notebook as an HTML document. You can do this by using the menu above and navigating to  \n",
        "**File -> Download as -> HTML (.html)**. Include the finished document along with this notebook as your submission."
      ]
    }
  ]
}